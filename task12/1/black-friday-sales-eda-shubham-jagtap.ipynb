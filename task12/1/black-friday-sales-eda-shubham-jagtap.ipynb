{
 "cells": [
  {
   "cell_type": "code",
   "id": "83eef118",
   "metadata": {
    "_cell_guid": "b1076dfc-b9ad-4769-8c92-a6c4dae69d19",
    "_uuid": "8f2839f25d086af736a60e9eeb907d3b93b6e0e5",
    "execution": {
     "iopub.execute_input": "2023-09-04T12:42:43.690663Z",
     "iopub.status.busy": "2023-09-04T12:42:43.690270Z",
     "iopub.status.idle": "2023-09-04T12:42:44.570016Z",
     "shell.execute_reply": "2023-09-04T12:42:44.568881Z"
    },
    "papermill": {
     "duration": 0.904212,
     "end_time": "2023-09-04T12:42:44.572678",
     "exception": false,
     "start_time": "2023-09-04T12:42:43.668466",
     "status": "completed"
    },
    "tags": [],
    "ExecuteTime": {
     "end_time": "2024-07-04T18:31:52.861142Z",
     "start_time": "2024-07-04T18:31:52.857474Z"
    }
   },
   "source": [
    "#import Libraries\n",
    "import pandas as pd\n"
   ],
   "outputs": [],
   "execution_count": 9
  },
  {
   "cell_type": "code",
   "id": "312c96bb",
   "metadata": {
    "execution": {
     "iopub.execute_input": "2023-09-04T12:42:44.613253Z",
     "iopub.status.busy": "2023-09-04T12:42:44.612417Z",
     "iopub.status.idle": "2023-09-04T12:42:45.809852Z",
     "shell.execute_reply": "2023-09-04T12:42:45.808667Z"
    },
    "papermill": {
     "duration": 1.220712,
     "end_time": "2023-09-04T12:42:45.812499",
     "exception": false,
     "start_time": "2023-09-04T12:42:44.591787",
     "status": "completed"
    },
    "tags": [],
    "ExecuteTime": {
     "end_time": "2024-07-04T18:31:53.541856Z",
     "start_time": "2024-07-04T18:31:52.891636Z"
    }
   },
   "source": [
    "file_name = \"train_blackFriday.csv\"\n",
    "data = pd.read_csv(file_name)"
   ],
   "outputs": [],
   "execution_count": 10
  },
  {
   "cell_type": "code",
   "id": "2d5d1292",
   "metadata": {
    "execution": {
     "iopub.execute_input": "2023-09-04T12:42:45.864134Z",
     "iopub.status.busy": "2023-09-04T12:42:45.863708Z",
     "iopub.status.idle": "2023-09-04T12:42:45.870972Z",
     "shell.execute_reply": "2023-09-04T12:42:45.869732Z"
    },
    "papermill": {
     "duration": 0.040451,
     "end_time": "2023-09-04T12:42:45.873616",
     "exception": false,
     "start_time": "2023-09-04T12:42:45.833165",
     "status": "completed"
    },
    "tags": [],
    "ExecuteTime": {
     "end_time": "2024-07-04T18:32:33.175775Z",
     "start_time": "2024-07-04T18:32:33.170059Z"
    }
   },
   "source": [
    "num_rows, num_columns = data.shape\n",
    "print(f\"Number of rows: {num_rows}\")\n",
    "print(f\"Number of columns:{num_columns}\")"
   ],
   "outputs": [
    {
     "name": "stdout",
     "output_type": "stream",
     "text": [
      "Number of rows: 550068\n",
      "Number of columns:12\n"
     ]
    }
   ],
   "execution_count": 29
  },
  {
   "cell_type": "code",
   "id": "df4207ae",
   "metadata": {
    "execution": {
     "iopub.execute_input": "2023-09-04T12:42:45.918078Z",
     "iopub.status.busy": "2023-09-04T12:42:45.917532Z",
     "iopub.status.idle": "2023-09-04T12:42:45.931049Z",
     "shell.execute_reply": "2023-09-04T12:42:45.929987Z"
    },
    "papermill": {
     "duration": 0.039371,
     "end_time": "2023-09-04T12:42:45.934384",
     "exception": false,
     "start_time": "2023-09-04T12:42:45.895013",
     "status": "completed"
    },
    "tags": [],
    "ExecuteTime": {
     "end_time": "2024-07-04T18:33:21.802212Z",
     "start_time": "2024-07-04T18:33:21.795069Z"
    }
   },
   "source": "print(data.dtypes)",
   "outputs": [
    {
     "name": "stdout",
     "output_type": "stream",
     "text": [
      "User_ID                         int64\n",
      "Product_ID                     object\n",
      "Gender                         object\n",
      "Age                            object\n",
      "Occupation                      int64\n",
      "City_Category                  object\n",
      "Stay_In_Current_City_Years     object\n",
      "Marital_Status                  int64\n",
      "Product_Category_1              int64\n",
      "Product_Category_2            float64\n",
      "Product_Category_3            float64\n",
      "Purchase                        int64\n",
      "dtype: object\n"
     ]
    }
   ],
   "execution_count": 30
  },
  {
   "cell_type": "code",
   "id": "114528be",
   "metadata": {
    "execution": {
     "iopub.execute_input": "2023-09-04T12:42:45.976930Z",
     "iopub.status.busy": "2023-09-04T12:42:45.976513Z",
     "iopub.status.idle": "2023-09-04T12:42:45.984519Z",
     "shell.execute_reply": "2023-09-04T12:42:45.983316Z"
    },
    "papermill": {
     "duration": 0.032531,
     "end_time": "2023-09-04T12:42:45.986946",
     "exception": false,
     "start_time": "2023-09-04T12:42:45.954415",
     "status": "completed"
    },
    "tags": [],
    "ExecuteTime": {
     "end_time": "2024-07-04T18:34:00.460283Z",
     "start_time": "2024-07-04T18:34:00.453899Z"
    }
   },
   "source": "print(data.columns)",
   "outputs": [
    {
     "name": "stdout",
     "output_type": "stream",
     "text": [
      "Index(['User_ID', 'Product_ID', 'Gender', 'Age', 'Occupation', 'City_Category',\n",
      "       'Stay_In_Current_City_Years', 'Marital_Status', 'Product_Category_1',\n",
      "       'Product_Category_2', 'Product_Category_3', 'Purchase'],\n",
      "      dtype='object')\n"
     ]
    }
   ],
   "execution_count": 31
  },
  {
   "cell_type": "code",
   "id": "cc5e7240",
   "metadata": {
    "execution": {
     "iopub.execute_input": "2023-09-04T12:42:46.030078Z",
     "iopub.status.busy": "2023-09-04T12:42:46.029621Z",
     "iopub.status.idle": "2023-09-04T12:42:46.321912Z",
     "shell.execute_reply": "2023-09-04T12:42:46.320784Z"
    },
    "papermill": {
     "duration": 0.317204,
     "end_time": "2023-09-04T12:42:46.324671",
     "exception": false,
     "start_time": "2023-09-04T12:42:46.007467",
     "status": "completed"
    },
    "tags": [],
    "ExecuteTime": {
     "end_time": "2024-07-04T18:34:42.400879Z",
     "start_time": "2024-07-04T18:34:42.319397Z"
    }
   },
   "source": [
    "nan_values = data.isna().sum()\n",
    "print(nan_values)\n"
   ],
   "outputs": [
    {
     "name": "stdout",
     "output_type": "stream",
     "text": [
      "User_ID                            0\n",
      "Product_ID                         0\n",
      "Gender                             0\n",
      "Age                                0\n",
      "Occupation                         0\n",
      "City_Category                      0\n",
      "Stay_In_Current_City_Years         0\n",
      "Marital_Status                     0\n",
      "Product_Category_1                 0\n",
      "Product_Category_2            173638\n",
      "Product_Category_3            383247\n",
      "Purchase                           0\n",
      "dtype: int64\n"
     ]
    }
   ],
   "execution_count": 32
  },
  {
   "cell_type": "code",
   "id": "19f96834",
   "metadata": {
    "execution": {
     "iopub.execute_input": "2023-09-04T12:42:46.369049Z",
     "iopub.status.busy": "2023-09-04T12:42:46.368641Z",
     "iopub.status.idle": "2023-09-04T12:42:46.793355Z",
     "shell.execute_reply": "2023-09-04T12:42:46.791967Z"
    },
    "papermill": {
     "duration": 0.450066,
     "end_time": "2023-09-04T12:42:46.796009",
     "exception": false,
     "start_time": "2023-09-04T12:42:46.345943",
     "status": "completed"
    },
    "tags": [],
    "ExecuteTime": {
     "end_time": "2024-07-04T18:36:41.252980Z",
     "start_time": "2024-07-04T18:36:40.787261Z"
    }
   },
   "source": [
    "duplicate_rows = data.duplicated()\n",
    "num_duplicates = duplicate_rows.sum()\n",
    "print(f\"Number of duplicate rows: {num_duplicates}\")\n",
    " \n",
    "duplicates = data[duplicate_rows]\n",
    "print(\"Duplicate rows:\")\n",
    "print(duplicates)\n",
    "\n"
   ],
   "outputs": [
    {
     "name": "stdout",
     "output_type": "stream",
     "text": [
      "Number of duplicate rows: 0\n",
      "Duplicate rows:\n",
      "Empty DataFrame\n",
      "Columns: [User_ID, Product_ID, Gender, Age, Occupation, City_Category, Stay_In_Current_City_Years, Marital_Status, Product_Category_1, Product_Category_2, Product_Category_3, Purchase]\n",
      "Index: []\n"
     ]
    }
   ],
   "execution_count": 33
  },
  {
   "cell_type": "code",
   "id": "ed3af260",
   "metadata": {
    "execution": {
     "iopub.execute_input": "2023-09-04T12:42:46.839038Z",
     "iopub.status.busy": "2023-09-04T12:42:46.838623Z",
     "iopub.status.idle": "2023-09-04T12:42:46.859025Z",
     "shell.execute_reply": "2023-09-04T12:42:46.858108Z"
    },
    "papermill": {
     "duration": 0.044714,
     "end_time": "2023-09-04T12:42:46.861385",
     "exception": false,
     "start_time": "2023-09-04T12:42:46.816671",
     "status": "completed"
    },
    "tags": [],
    "ExecuteTime": {
     "end_time": "2024-07-04T18:37:45.753580Z",
     "start_time": "2024-07-04T18:37:45.746262Z"
    }
   },
   "source": [
    "data.rename(columns={col: col.lower() for col in data.columns}, inplace=True)\n",
    "print(data.columns)"
   ],
   "outputs": [
    {
     "name": "stdout",
     "output_type": "stream",
     "text": [
      "Index(['user_id', 'product_id', 'gender', 'age', 'occupation', 'city_category',\n",
      "       'stay_in_current_city_years', 'marital_status', 'product_category_1',\n",
      "       'product_category_2', 'product_category_3', 'purchase'],\n",
      "      dtype='object')\n"
     ]
    }
   ],
   "execution_count": 34
  },
  {
   "cell_type": "code",
   "id": "079add94",
   "metadata": {
    "execution": {
     "iopub.execute_input": "2023-09-04T12:42:46.906750Z",
     "iopub.status.busy": "2023-09-04T12:42:46.906115Z",
     "iopub.status.idle": "2023-09-04T12:42:46.952771Z",
     "shell.execute_reply": "2023-09-04T12:42:46.951569Z"
    },
    "papermill": {
     "duration": 0.072934,
     "end_time": "2023-09-04T12:42:46.955437",
     "exception": false,
     "start_time": "2023-09-04T12:42:46.882503",
     "status": "completed"
    },
    "tags": [],
    "ExecuteTime": {
     "end_time": "2024-07-04T18:39:02.830683Z",
     "start_time": "2024-07-04T18:39:02.790801Z"
    }
   },
   "source": [
    "data_cleaned = data.drop_duplicates(subset='user_id')\n",
    " \n",
    "print(f\"Number of rows before removing duplicates: {data.shape[0]}\")\n",
    "print(f\"Number of rows after removing duplicates: {data_cleaned.shape[0]}\")\n",
    " \n",
    "data_cleaned.to_csv('cleaned_data.csv', index=False)\n",
    "print(data_cleaned.head())\n"
   ],
   "outputs": [
    {
     "name": "stdout",
     "output_type": "stream",
     "text": [
      "Number of rows before removing duplicates: 550068\n",
      "Number of rows after removing duplicates: 5891\n",
      "   user_id product_id gender    age  occupation city_category  \\\n",
      "0  1000001  P00069042      F   0-17          10             A   \n",
      "4  1000002  P00285442      M    55+          16             C   \n",
      "5  1000003  P00193542      M  26-35          15             A   \n",
      "6  1000004  P00184942      M  46-50           7             B   \n",
      "9  1000005  P00274942      M  26-35          20             A   \n",
      "\n",
      "  stay_in_current_city_years  marital_status  product_category_1  \\\n",
      "0                          2               0                   3   \n",
      "4                         4+               0                   8   \n",
      "5                          3               0                   1   \n",
      "6                          2               1                   1   \n",
      "9                          1               1                   8   \n",
      "\n",
      "   product_category_2  product_category_3  purchase  \n",
      "0                 NaN                 NaN      8370  \n",
      "4                 NaN                 NaN      7969  \n",
      "5                 2.0                 NaN     15227  \n",
      "6                 8.0                17.0     19215  \n",
      "9                 NaN                 NaN      7871  \n"
     ]
    }
   ],
   "execution_count": 35
  },
  {
   "cell_type": "code",
   "id": "28e0eaaf",
   "metadata": {
    "execution": {
     "iopub.execute_input": "2023-09-04T12:42:47.000808Z",
     "iopub.status.busy": "2023-09-04T12:42:47.000407Z",
     "iopub.status.idle": "2023-09-04T12:42:47.064662Z",
     "shell.execute_reply": "2023-09-04T12:42:47.063307Z"
    },
    "papermill": {
     "duration": 0.090484,
     "end_time": "2023-09-04T12:42:47.067279",
     "exception": false,
     "start_time": "2023-09-04T12:42:46.976795",
     "status": "completed"
    },
    "tags": [],
    "ExecuteTime": {
     "end_time": "2024-07-04T18:39:38.552662Z",
     "start_time": "2024-07-04T18:39:38.372416Z"
    }
   },
   "source": [
    "for column in data.columns:\n",
    "    unique_values = data[column].unique()\n",
    "    print(f\"Unique values in '{column}':\")\n",
    "    print(unique_values)\n",
    "    print(\"-\" * 20) \n"
   ],
   "outputs": [
    {
     "name": "stdout",
     "output_type": "stream",
     "text": [
      "Unique values in 'user_id':\n",
      "[1000001 1000002 1000003 ... 1004113 1005391 1001529]\n",
      "--------------------\n",
      "Unique values in 'product_id':\n",
      "['P00069042' 'P00248942' 'P00087842' ... 'P00370293' 'P00371644'\n",
      " 'P00370853']\n",
      "--------------------\n",
      "Unique values in 'gender':\n",
      "['F' 'M']\n",
      "--------------------\n",
      "Unique values in 'age':\n",
      "['0-17' '55+' '26-35' '46-50' '51-55' '36-45' '18-25']\n",
      "--------------------\n",
      "Unique values in 'occupation':\n",
      "[10 16 15  7 20  9  1 12 17  0  3  4 11  8 19  2 18  5 14 13  6]\n",
      "--------------------\n",
      "Unique values in 'city_category':\n",
      "['A' 'C' 'B']\n",
      "--------------------\n",
      "Unique values in 'stay_in_current_city_years':\n",
      "['2' '4+' '3' '1' '0']\n",
      "--------------------\n",
      "Unique values in 'marital_status':\n",
      "[0 1]\n",
      "--------------------\n",
      "Unique values in 'product_category_1':\n",
      "[ 3  1 12  8  5  4  2  6 14 11 13 15  7 16 18 10 17  9 20 19]\n",
      "--------------------\n",
      "Unique values in 'product_category_2':\n",
      "[nan  6. 14.  2.  8. 15. 16. 11.  5.  3.  4. 12.  9. 10. 17. 13.  7. 18.]\n",
      "--------------------\n",
      "Unique values in 'product_category_3':\n",
      "[nan 14. 17.  5.  4. 16. 15.  8.  9. 13.  6. 12.  3. 18. 11. 10.]\n",
      "--------------------\n",
      "Unique values in 'purchase':\n",
      "[ 8370 15200  1422 ...   135   123   613]\n",
      "--------------------\n"
     ]
    }
   ],
   "execution_count": 36
  },
  {
   "cell_type": "code",
   "id": "a0b5ebe4",
   "metadata": {
    "execution": {
     "iopub.execute_input": "2023-09-04T12:42:47.111701Z",
     "iopub.status.busy": "2023-09-04T12:42:47.111258Z",
     "iopub.status.idle": "2023-09-04T12:42:47.162551Z",
     "shell.execute_reply": "2023-09-04T12:42:47.161600Z"
    },
    "papermill": {
     "duration": 0.07623,
     "end_time": "2023-09-04T12:42:47.164712",
     "exception": false,
     "start_time": "2023-09-04T12:42:47.088482",
     "status": "completed"
    },
    "tags": [],
    "ExecuteTime": {
     "end_time": "2024-07-04T18:31:53.598162Z",
     "start_time": "2024-07-04T18:31:53.594655Z"
    }
   },
   "source": [],
   "outputs": [],
   "execution_count": 18
  },
  {
   "cell_type": "code",
   "id": "d7ad702f",
   "metadata": {
    "execution": {
     "iopub.execute_input": "2023-09-04T12:42:47.273682Z",
     "iopub.status.busy": "2023-09-04T12:42:47.273239Z",
     "iopub.status.idle": "2023-09-04T12:42:47.326823Z",
     "shell.execute_reply": "2023-09-04T12:42:47.325530Z"
    },
    "papermill": {
     "duration": 0.142623,
     "end_time": "2023-09-04T12:42:47.329747",
     "exception": false,
     "start_time": "2023-09-04T12:42:47.187124",
     "status": "completed"
    },
    "tags": [],
    "ExecuteTime": {
     "end_time": "2024-07-04T18:31:53.602975Z",
     "start_time": "2024-07-04T18:31:53.599171Z"
    }
   },
   "source": [],
   "outputs": [],
   "execution_count": 18
  },
  {
   "cell_type": "code",
   "id": "b0ae3ebc",
   "metadata": {
    "execution": {
     "iopub.execute_input": "2023-09-04T12:42:47.375840Z",
     "iopub.status.busy": "2023-09-04T12:42:47.375450Z",
     "iopub.status.idle": "2023-09-04T12:42:55.653538Z",
     "shell.execute_reply": "2023-09-04T12:42:55.652133Z"
    },
    "papermill": {
     "duration": 8.304288,
     "end_time": "2023-09-04T12:42:55.656316",
     "exception": false,
     "start_time": "2023-09-04T12:42:47.352028",
     "status": "completed"
    },
    "tags": [],
    "ExecuteTime": {
     "end_time": "2024-07-04T18:31:53.608458Z",
     "start_time": "2024-07-04T18:31:53.605140Z"
    }
   },
   "source": [
    "#replace each range in age coulmn to its creosspond category ex:0-17 ->child ,18-25 ->teenage, 26-50 -> adult , 51-55+ ->old"
   ],
   "outputs": [],
   "execution_count": 19
  },
  {
   "cell_type": "code",
   "id": "bf6a87a1",
   "metadata": {
    "execution": {
     "iopub.execute_input": "2023-09-04T12:42:55.706945Z",
     "iopub.status.busy": "2023-09-04T12:42:55.706538Z",
     "iopub.status.idle": "2023-09-04T12:42:55.758290Z",
     "shell.execute_reply": "2023-09-04T12:42:55.757033Z"
    },
    "papermill": {
     "duration": 0.081656,
     "end_time": "2023-09-04T12:42:55.760960",
     "exception": false,
     "start_time": "2023-09-04T12:42:55.679304",
     "status": "completed"
    },
    "tags": [],
    "ExecuteTime": {
     "end_time": "2024-07-04T18:40:52.175925Z",
     "start_time": "2024-07-04T18:40:52.073596Z"
    }
   },
   "source": [
    "age_mapping = {\n",
    "    '0-17': 'child',\n",
    "    '18-25': 'teenage',\n",
    "    '26-50': 'adult',\n",
    "    '51-55+': 'old'\n",
    "}\n",
    " \n",
    "data['age'] = data['age'].replace(age_mapping)\n",
    "print(data['age'].head())"
   ],
   "outputs": [
    {
     "name": "stdout",
     "output_type": "stream",
     "text": [
      "0    child\n",
      "1    child\n",
      "2    child\n",
      "3    child\n",
      "4      55+\n",
      "Name: age, dtype: object\n"
     ]
    }
   ],
   "execution_count": 37
  },
  {
   "cell_type": "code",
   "id": "ae4214b5",
   "metadata": {
    "execution": {
     "iopub.execute_input": "2023-09-04T12:42:55.808630Z",
     "iopub.status.busy": "2023-09-04T12:42:55.808206Z",
     "iopub.status.idle": "2023-09-04T12:42:55.818281Z",
     "shell.execute_reply": "2023-09-04T12:42:55.817407Z"
    },
    "papermill": {
     "duration": 0.037076,
     "end_time": "2023-09-04T12:42:55.820762",
     "exception": false,
     "start_time": "2023-09-04T12:42:55.783686",
     "status": "completed"
    },
    "tags": [],
    "ExecuteTime": {
     "end_time": "2024-07-04T18:31:53.620015Z",
     "start_time": "2024-07-04T18:31:53.616661Z"
    }
   },
   "source": [],
   "outputs": [],
   "execution_count": 19
  },
  {
   "cell_type": "code",
   "id": "2619e536",
   "metadata": {
    "execution": {
     "iopub.execute_input": "2023-09-04T12:42:55.867947Z",
     "iopub.status.busy": "2023-09-04T12:42:55.867516Z",
     "iopub.status.idle": "2023-09-04T12:42:55.916722Z",
     "shell.execute_reply": "2023-09-04T12:42:55.915552Z"
    },
    "papermill": {
     "duration": 0.075715,
     "end_time": "2023-09-04T12:42:55.919233",
     "exception": false,
     "start_time": "2023-09-04T12:42:55.843518",
     "status": "completed"
    },
    "tags": [],
    "ExecuteTime": {
     "end_time": "2024-07-04T18:53:29.778368Z",
     "start_time": "2024-07-04T18:53:29.772571Z"
    }
   },
   "source": "print(data.columns)",
   "outputs": [
    {
     "name": "stdout",
     "output_type": "stream",
     "text": [
      "Index(['user_id', 'product_id', 'gender', 'age', 'occupation', 'city_category',\n",
      "       'stay_in_current_city_years', 'marital_status', 'product_category_1',\n",
      "       'product_category_2', 'product_category_3', 'purchase'],\n",
      "      dtype='object')\n"
     ]
    }
   ],
   "execution_count": 44
  },
  {
   "cell_type": "code",
   "id": "cd855e49",
   "metadata": {
    "execution": {
     "iopub.execute_input": "2023-09-04T12:42:55.967808Z",
     "iopub.status.busy": "2023-09-04T12:42:55.967054Z",
     "iopub.status.idle": "2023-09-04T12:42:56.019255Z",
     "shell.execute_reply": "2023-09-04T12:42:56.018096Z"
    },
    "papermill": {
     "duration": 0.080012,
     "end_time": "2023-09-04T12:42:56.021854",
     "exception": false,
     "start_time": "2023-09-04T12:42:55.941842",
     "status": "completed"
    },
    "tags": [],
    "ExecuteTime": {
     "end_time": "2024-07-04T18:54:11.280485Z",
     "start_time": "2024-07-04T18:54:11.273886Z"
    }
   },
   "source": [
    "#Checking for unique values for city_years column\n",
    "unique_city_years = data['stay_in_current_city_years'].unique\n",
    "print(\"Unique values in 'Stay_In_Current_City_Years' column:\")\n",
    "print(unique_city_years)"
   ],
   "outputs": [
    {
     "name": "stdout",
     "output_type": "stream",
     "text": [
      "Unique values in 'Stay_In_Current_City_Years' column:\n",
      "<bound method Series.unique of 0          2\n",
      "1          2\n",
      "2          2\n",
      "3          2\n",
      "4         4+\n",
      "          ..\n",
      "550063     1\n",
      "550064     3\n",
      "550065    4+\n",
      "550066     2\n",
      "550067    4+\n",
      "Name: stay_in_current_city_years, Length: 550068, dtype: object>\n"
     ]
    }
   ],
   "execution_count": 45
  },
  {
   "cell_type": "code",
   "id": "d5486374",
   "metadata": {
    "execution": {
     "iopub.execute_input": "2023-09-04T12:42:56.069913Z",
     "iopub.status.busy": "2023-09-04T12:42:56.069532Z",
     "iopub.status.idle": "2023-09-04T12:42:57.135130Z",
     "shell.execute_reply": "2023-09-04T12:42:57.133936Z"
    },
    "papermill": {
     "duration": 1.093211,
     "end_time": "2023-09-04T12:42:57.137907",
     "exception": false,
     "start_time": "2023-09-04T12:42:56.044696",
     "status": "completed"
    },
    "tags": [],
    "ExecuteTime": {
     "end_time": "2024-07-04T18:46:07.124594Z",
     "start_time": "2024-07-04T18:46:07.120915Z"
    }
   },
   "source": [
    "\n",
    "#remove + from rows in city_years column"
   ],
   "outputs": [],
   "execution_count": 41
  },
  {
   "cell_type": "code",
   "id": "f1ab4abd",
   "metadata": {
    "execution": {
     "iopub.execute_input": "2023-09-04T12:42:57.185559Z",
     "iopub.status.busy": "2023-09-04T12:42:57.185146Z",
     "iopub.status.idle": "2023-09-04T12:42:57.237071Z",
     "shell.execute_reply": "2023-09-04T12:42:57.235936Z"
    },
    "papermill": {
     "duration": 0.078766,
     "end_time": "2023-09-04T12:42:57.239622",
     "exception": false,
     "start_time": "2023-09-04T12:42:57.160856",
     "status": "completed"
    },
    "tags": [],
    "ExecuteTime": {
     "end_time": "2024-07-04T18:58:36.117702Z",
     "start_time": "2024-07-04T18:58:35.998579Z"
    }
   },
   "source": [
    "data['stay_in_current_city_years'] = data['stay_in_current_city_years'].str.replace('+', '')\n",
    "print(data['stay_in_current_city_years'].head())"
   ],
   "outputs": [
    {
     "name": "stdout",
     "output_type": "stream",
     "text": [
      "0    2\n",
      "1    2\n",
      "2    2\n",
      "3    2\n",
      "4    4\n",
      "Name: stay_in_current_city_years, dtype: object\n"
     ]
    }
   ],
   "execution_count": 49
  },
  {
   "cell_type": "code",
   "id": "ddda69c4",
   "metadata": {
    "execution": {
     "iopub.execute_input": "2023-09-04T12:42:57.288130Z",
     "iopub.status.busy": "2023-09-04T12:42:57.287743Z",
     "iopub.status.idle": "2023-09-04T12:42:57.299200Z",
     "shell.execute_reply": "2023-09-04T12:42:57.297969Z"
    },
    "papermill": {
     "duration": 0.039281,
     "end_time": "2023-09-04T12:42:57.301806",
     "exception": false,
     "start_time": "2023-09-04T12:42:57.262525",
     "status": "completed"
    },
    "tags": [],
    "ExecuteTime": {
     "end_time": "2024-07-04T18:31:53.646260Z",
     "start_time": "2024-07-04T18:31:53.642264Z"
    }
   },
   "source": [],
   "outputs": [],
   "execution_count": 21
  },
  {
   "cell_type": "code",
   "id": "bb7fdab9",
   "metadata": {
    "execution": {
     "iopub.execute_input": "2023-09-04T12:42:57.350605Z",
     "iopub.status.busy": "2023-09-04T12:42:57.350166Z",
     "iopub.status.idle": "2023-09-04T12:42:57.410659Z",
     "shell.execute_reply": "2023-09-04T12:42:57.409350Z"
    },
    "papermill": {
     "duration": 0.087978,
     "end_time": "2023-09-04T12:42:57.413246",
     "exception": false,
     "start_time": "2023-09-04T12:42:57.325268",
     "status": "completed"
    },
    "tags": [],
    "ExecuteTime": {
     "end_time": "2024-07-04T18:31:53.652344Z",
     "start_time": "2024-07-04T18:31:53.649268Z"
    }
   },
   "source": [],
   "outputs": [],
   "execution_count": 21
  },
  {
   "cell_type": "code",
   "id": "7bd42096",
   "metadata": {
    "execution": {
     "iopub.execute_input": "2023-09-04T12:42:57.462236Z",
     "iopub.status.busy": "2023-09-04T12:42:57.461808Z",
     "iopub.status.idle": "2023-09-04T12:42:57.473914Z",
     "shell.execute_reply": "2023-09-04T12:42:57.472578Z"
    },
    "papermill": {
     "duration": 0.039205,
     "end_time": "2023-09-04T12:42:57.476341",
     "exception": false,
     "start_time": "2023-09-04T12:42:57.437136",
     "status": "completed"
    },
    "tags": [],
    "ExecuteTime": {
     "end_time": "2024-07-04T18:59:55.542559Z",
     "start_time": "2024-07-04T18:59:55.531998Z"
    }
   },
   "source": [
    "#Checking for unique values for category_1 column\n",
    "unique_values_category_1 = data['product_category_1'].unique()\n",
    "print(\"Unique values in 'category_1' column:\")\n",
    "print(unique_values_category_1)"
   ],
   "outputs": [
    {
     "name": "stdout",
     "output_type": "stream",
     "text": [
      "Unique values in 'category_1' column:\n",
      "[ 3  1 12  8  5  4  2  6 14 11 13 15  7 16 18 10 17  9 20 19]\n"
     ]
    }
   ],
   "execution_count": 51
  },
  {
   "cell_type": "code",
   "id": "cb86a15f",
   "metadata": {
    "execution": {
     "iopub.execute_input": "2023-09-04T12:42:57.525895Z",
     "iopub.status.busy": "2023-09-04T12:42:57.525496Z",
     "iopub.status.idle": "2023-09-04T12:42:57.544548Z",
     "shell.execute_reply": "2023-09-04T12:42:57.543215Z"
    },
    "papermill": {
     "duration": 0.047378,
     "end_time": "2023-09-04T12:42:57.547821",
     "exception": false,
     "start_time": "2023-09-04T12:42:57.500443",
     "status": "completed"
    },
    "tags": [],
    "ExecuteTime": {
     "end_time": "2024-07-04T19:00:36.793334Z",
     "start_time": "2024-07-04T19:00:36.780255Z"
    }
   },
   "source": [
    "#Checking for unique values for category_2 column\n",
    "unique_values_category_2 = data['product_category_2'].unique()\n",
    "print(\"Unique values in 'category_2' column:\")\n",
    "print(unique_values_category_2)"
   ],
   "outputs": [
    {
     "name": "stdout",
     "output_type": "stream",
     "text": [
      "Unique values in 'category_2' column:\n",
      "[nan  6. 14.  2.  8. 15. 16. 11.  5.  3.  4. 12.  9. 10. 17. 13.  7. 18.]\n"
     ]
    }
   ],
   "execution_count": 52
  },
  {
   "cell_type": "code",
   "id": "a54a4bfc",
   "metadata": {
    "execution": {
     "iopub.execute_input": "2023-09-04T12:42:57.598677Z",
     "iopub.status.busy": "2023-09-04T12:42:57.597411Z",
     "iopub.status.idle": "2023-09-04T12:42:57.617997Z",
     "shell.execute_reply": "2023-09-04T12:42:57.616710Z"
    },
    "papermill": {
     "duration": 0.048599,
     "end_time": "2023-09-04T12:42:57.620621",
     "exception": false,
     "start_time": "2023-09-04T12:42:57.572022",
     "status": "completed"
    },
    "tags": [],
    "ExecuteTime": {
     "end_time": "2024-07-04T19:01:37.444606Z",
     "start_time": "2024-07-04T19:01:37.285046Z"
    }
   },
   "source": [
    "#fill null you found\n",
    "data_filled = data.fillna(0)\n",
    "print(data_filled.head())"
   ],
   "outputs": [
    {
     "name": "stdout",
     "output_type": "stream",
     "text": [
      "   user_id product_id gender    age  occupation city_category  \\\n",
      "0  1000001  P00069042      F  child          10             A   \n",
      "1  1000001  P00248942      F  child          10             A   \n",
      "2  1000001  P00087842      F  child          10             A   \n",
      "3  1000001  P00085442      F  child          10             A   \n",
      "4  1000002  P00285442      M    55+          16             C   \n",
      "\n",
      "  stay_in_current_city_years  marital_status  product_category_1  \\\n",
      "0                          2               0                   3   \n",
      "1                          2               0                   1   \n",
      "2                          2               0                  12   \n",
      "3                          2               0                  12   \n",
      "4                          4               0                   8   \n",
      "\n",
      "   product_category_2  product_category_3  purchase  \n",
      "0                 0.0                 0.0      8370  \n",
      "1                 6.0                14.0     15200  \n",
      "2                 0.0                 0.0      1422  \n",
      "3                14.0                 0.0      1057  \n",
      "4                 0.0                 0.0      7969  \n"
     ]
    }
   ],
   "execution_count": 53
  },
  {
   "cell_type": "code",
   "id": "e11129d7",
   "metadata": {
    "execution": {
     "iopub.execute_input": "2023-09-04T12:42:57.670754Z",
     "iopub.status.busy": "2023-09-04T12:42:57.670352Z",
     "iopub.status.idle": "2023-09-04T12:42:57.683748Z",
     "shell.execute_reply": "2023-09-04T12:42:57.682574Z"
    },
    "papermill": {
     "duration": 0.041758,
     "end_time": "2023-09-04T12:42:57.686257",
     "exception": false,
     "start_time": "2023-09-04T12:42:57.644499",
     "status": "completed"
    },
    "tags": [],
    "ExecuteTime": {
     "end_time": "2024-07-04T19:02:15.418119Z",
     "start_time": "2024-07-04T19:02:15.406293Z"
    }
   },
   "source": [
    "#Checking for unique values for category_3 column\n",
    "unique_values_category_3 = data['product_category_3'].unique()\n",
    "print(\"Unique values in 'category_3' column:\")\n",
    "print(unique_values_category_3)"
   ],
   "outputs": [
    {
     "name": "stdout",
     "output_type": "stream",
     "text": [
      "Unique values in 'category_3' column:\n",
      "[nan 14. 17.  5.  4. 16. 15.  8.  9. 13.  6. 12.  3. 18. 11. 10.]\n"
     ]
    }
   ],
   "execution_count": 54
  },
  {
   "cell_type": "code",
   "id": "ebc6ebc4",
   "metadata": {
    "execution": {
     "iopub.execute_input": "2023-09-04T12:42:57.738107Z",
     "iopub.status.busy": "2023-09-04T12:42:57.737674Z",
     "iopub.status.idle": "2023-09-04T12:42:57.756017Z",
     "shell.execute_reply": "2023-09-04T12:42:57.754783Z"
    },
    "papermill": {
     "duration": 0.047064,
     "end_time": "2023-09-04T12:42:57.758579",
     "exception": false,
     "start_time": "2023-09-04T12:42:57.711515",
     "status": "completed"
    },
    "tags": [],
    "ExecuteTime": {
     "end_time": "2024-07-04T18:31:53.687195Z",
     "start_time": "2024-07-04T18:31:53.682947Z"
    }
   },
   "source": [
    "#fill null you found"
   ],
   "outputs": [],
   "execution_count": 26
  },
  {
   "cell_type": "code",
   "id": "61b7c1b7",
   "metadata": {
    "execution": {
     "iopub.execute_input": "2023-09-04T12:42:57.808938Z",
     "iopub.status.busy": "2023-09-04T12:42:57.808508Z",
     "iopub.status.idle": "2023-09-04T12:42:57.822877Z",
     "shell.execute_reply": "2023-09-04T12:42:57.821916Z"
    },
    "papermill": {
     "duration": 0.043028,
     "end_time": "2023-09-04T12:42:57.825912",
     "exception": false,
     "start_time": "2023-09-04T12:42:57.782884",
     "status": "completed"
    },
    "tags": [],
    "ExecuteTime": {
     "end_time": "2024-07-04T18:31:53.693118Z",
     "start_time": "2024-07-04T18:31:53.690201Z"
    }
   },
   "source": [],
   "outputs": [],
   "execution_count": 26
  },
  {
   "cell_type": "code",
   "id": "0047acb7",
   "metadata": {
    "execution": {
     "iopub.execute_input": "2023-09-04T12:42:57.877782Z",
     "iopub.status.busy": "2023-09-04T12:42:57.877352Z",
     "iopub.status.idle": "2023-09-04T12:42:58.171805Z",
     "shell.execute_reply": "2023-09-04T12:42:58.170535Z"
    },
    "papermill": {
     "duration": 0.322937,
     "end_time": "2023-09-04T12:42:58.174246",
     "exception": false,
     "start_time": "2023-09-04T12:42:57.851309",
     "status": "completed"
    },
    "tags": [],
    "ExecuteTime": {
     "end_time": "2024-07-04T19:03:29.236423Z",
     "start_time": "2024-07-04T19:03:29.166171Z"
    }
   },
   "source": [
    "#check for null values\n",
    "null_counts = data.isnull().sum()\n",
    "print(\"Columns with null values:\")\n",
    "print(null_counts[null_counts > 0])"
   ],
   "outputs": [
    {
     "name": "stdout",
     "output_type": "stream",
     "text": [
      "Columns with null values:\n",
      "product_category_2    173638\n",
      "product_category_3    383247\n",
      "dtype: int64\n"
     ]
    }
   ],
   "execution_count": 55
  },
  {
   "cell_type": "code",
   "id": "9b097b9f",
   "metadata": {
    "papermill": {
     "duration": 0.031961,
     "end_time": "2023-09-04T12:43:24.977355",
     "exception": false,
     "start_time": "2023-09-04T12:43:24.945394",
     "status": "completed"
    },
    "tags": [],
    "ExecuteTime": {
     "end_time": "2024-07-04T19:04:43.251284Z",
     "start_time": "2024-07-04T19:04:42.737496Z"
    }
   },
   "source": [
    "#check for duplicates values\n",
    "duplicate_rows = data.duplicated()\n",
    "num_duplicates = duplicate_rows.sum()\n",
    "print(f\"Number of duplicate rows: {num_duplicates}\")\n",
    "if num_duplicates > 0:\n",
    "    duplicates = data[duplicate_rows]\n",
    "    print(\"Duplicate rows:\")\n",
    "    print(duplicates)"
   ],
   "outputs": [
    {
     "name": "stdout",
     "output_type": "stream",
     "text": [
      "Number of duplicate rows: 0\n"
     ]
    }
   ],
   "execution_count": 56
  },
  {
   "metadata": {},
   "cell_type": "code",
   "outputs": [],
   "execution_count": null,
   "source": "",
   "id": "99aa078f30b61fb3"
  }
 ],
 "metadata": {
  "kernelspec": {
   "display_name": "Python 3 (ipykernel)",
   "language": "python",
   "name": "python3"
  },
  "language_info": {
   "codemirror_mode": {
    "name": "ipython",
    "version": 3
   },
   "file_extension": ".py",
   "mimetype": "text/x-python",
   "name": "python",
   "nbconvert_exporter": "python",
   "pygments_lexer": "ipython3",
   "version": "3.9.13"
  },
  "papermill": {
   "default_parameters": {},
   "duration": 47.110011,
   "end_time": "2023-09-04T12:43:25.832217",
   "environment_variables": {},
   "exception": null,
   "input_path": "__notebook__.ipynb",
   "output_path": "__notebook__.ipynb",
   "parameters": {},
   "start_time": "2023-09-04T12:42:38.722206",
   "version": "2.4.0"
  }
 },
 "nbformat": 4,
 "nbformat_minor": 5
}
