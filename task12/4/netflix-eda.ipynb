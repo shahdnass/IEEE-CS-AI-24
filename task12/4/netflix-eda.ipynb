{
 "cells": [
  {
   "cell_type": "markdown",
   "id": "3f67abf2",
   "metadata": {
    "papermill": {
     "duration": 0.011357,
     "end_time": "2024-05-12T11:47:52.592385",
     "exception": false,
     "start_time": "2024-05-12T11:47:52.581028",
     "status": "completed"
    },
    "tags": []
   },
   "source": [
    "# 1. Importing Libraries"
   ]
  },
  {
   "cell_type": "code",
   "id": "a40aa72a",
   "metadata": {
    "execution": {
     "iopub.execute_input": "2024-05-12T11:47:52.618905Z",
     "iopub.status.busy": "2024-05-12T11:47:52.618172Z",
     "iopub.status.idle": "2024-05-12T11:47:55.151354Z",
     "shell.execute_reply": "2024-05-12T11:47:55.149805Z"
    },
    "papermill": {
     "duration": 2.550327,
     "end_time": "2024-05-12T11:47:55.154315",
     "exception": false,
     "start_time": "2024-05-12T11:47:52.603988",
     "status": "completed"
    },
    "tags": [],
    "ExecuteTime": {
     "end_time": "2024-07-04T19:52:28.252330Z",
     "start_time": "2024-07-04T19:52:26.611436Z"
    }
   },
   "source": [
    "import pandas as pd\n",
    "import numpy as np\n",
    "import matplotlib.pyplot as plt\n",
    "import seaborn as sns\n",
    "import calendar"
   ],
   "outputs": [],
   "execution_count": 8
  },
  {
   "cell_type": "markdown",
   "id": "c9e27157",
   "metadata": {
    "papermill": {
     "duration": 0.010236,
     "end_time": "2024-05-12T11:47:55.175637",
     "exception": false,
     "start_time": "2024-05-12T11:47:55.165401",
     "status": "completed"
    },
    "tags": []
   },
   "source": [
    "# 2. Data Loading"
   ]
  },
  {
   "cell_type": "code",
   "id": "c481b89b",
   "metadata": {
    "execution": {
     "iopub.execute_input": "2024-05-12T11:47:55.198292Z",
     "iopub.status.busy": "2024-05-12T11:47:55.197778Z",
     "iopub.status.idle": "2024-05-12T11:47:55.293095Z",
     "shell.execute_reply": "2024-05-12T11:47:55.291847Z"
    },
    "papermill": {
     "duration": 0.109876,
     "end_time": "2024-05-12T11:47:55.295818",
     "exception": false,
     "start_time": "2024-05-12T11:47:55.185942",
     "status": "completed"
    },
    "tags": [],
    "ExecuteTime": {
     "end_time": "2024-07-04T19:47:37.011298Z",
     "start_time": "2024-07-04T19:47:36.951638Z"
    }
   },
   "source": [
    "file_name = \"netflix1.csv\"\n",
    "data = pd.read_csv(file_name)\n",
    "print(data.head())"
   ],
   "outputs": [
    {
     "name": "stdout",
     "output_type": "stream",
     "text": [
      "  show_id     type                             title         director  \\\n",
      "0      s1    Movie              Dick Johnson Is Dead  Kirsten Johnson   \n",
      "1      s3  TV Show                         Ganglands  Julien Leclercq   \n",
      "2      s6  TV Show                     Midnight Mass    Mike Flanagan   \n",
      "3     s14    Movie  Confessions of an Invisible Girl    Bruno Garotti   \n",
      "4      s8    Movie                           Sankofa     Haile Gerima   \n",
      "\n",
      "         country date_added  release_year rating  duration  \\\n",
      "0  United States  9/25/2021          2020  PG-13    90 min   \n",
      "1         France  9/24/2021          2021  TV-MA  1 Season   \n",
      "2  United States  9/24/2021          2021  TV-MA  1 Season   \n",
      "3         Brazil  9/22/2021          2021  TV-PG    91 min   \n",
      "4  United States  9/24/2021          1993  TV-MA   125 min   \n",
      "\n",
      "                                           listed_in  \n",
      "0                                      Documentaries  \n",
      "1  Crime TV Shows, International TV Shows, TV Act...  \n",
      "2                 TV Dramas, TV Horror, TV Mysteries  \n",
      "3                 Children & Family Movies, Comedies  \n",
      "4   Dramas, Independent Movies, International Movies  \n"
     ]
    }
   ],
   "execution_count": 3
  },
  {
   "cell_type": "markdown",
   "id": "033d9528",
   "metadata": {
    "papermill": {
     "duration": 0.011027,
     "end_time": "2024-05-12T11:47:55.317802",
     "exception": false,
     "start_time": "2024-05-12T11:47:55.306775",
     "status": "completed"
    },
    "tags": []
   },
   "source": [
    "# 3. Exploring Data"
   ]
  },
  {
   "cell_type": "code",
   "id": "a50808a2",
   "metadata": {
    "execution": {
     "iopub.execute_input": "2024-05-12T11:47:55.342183Z",
     "iopub.status.busy": "2024-05-12T11:47:55.341749Z",
     "iopub.status.idle": "2024-05-12T11:47:55.349805Z",
     "shell.execute_reply": "2024-05-12T11:47:55.348508Z"
    },
    "papermill": {
     "duration": 0.02367,
     "end_time": "2024-05-12T11:47:55.352369",
     "exception": false,
     "start_time": "2024-05-12T11:47:55.328699",
     "status": "completed"
    },
    "tags": [],
    "ExecuteTime": {
     "end_time": "2024-07-04T19:48:55.449503Z",
     "start_time": "2024-07-04T19:48:55.418724Z"
    }
   },
   "source": [
    "print(\"DataFrame Information:\")\n",
    "print(data.info())"
   ],
   "outputs": [
    {
     "name": "stdout",
     "output_type": "stream",
     "text": [
      "DataFrame Information:\n",
      "<class 'pandas.core.frame.DataFrame'>\n",
      "RangeIndex: 8790 entries, 0 to 8789\n",
      "Data columns (total 10 columns):\n",
      " #   Column        Non-Null Count  Dtype \n",
      "---  ------        --------------  ----- \n",
      " 0   show_id       8790 non-null   object\n",
      " 1   type          8790 non-null   object\n",
      " 2   title         8790 non-null   object\n",
      " 3   director      8790 non-null   object\n",
      " 4   country       8790 non-null   object\n",
      " 5   date_added    8790 non-null   object\n",
      " 6   release_year  8790 non-null   int64 \n",
      " 7   rating        8790 non-null   object\n",
      " 8   duration      8790 non-null   object\n",
      " 9   listed_in     8790 non-null   object\n",
      "dtypes: int64(1), object(9)\n",
      "memory usage: 686.8+ KB\n",
      "None\n"
     ]
    }
   ],
   "execution_count": 4
  },
  {
   "cell_type": "code",
   "id": "910a4e60",
   "metadata": {
    "execution": {
     "iopub.execute_input": "2024-05-12T11:47:55.379073Z",
     "iopub.status.busy": "2024-05-12T11:47:55.378335Z",
     "iopub.status.idle": "2024-05-12T11:47:55.399351Z",
     "shell.execute_reply": "2024-05-12T11:47:55.398072Z"
    },
    "papermill": {
     "duration": 0.038174,
     "end_time": "2024-05-12T11:47:55.402115",
     "exception": false,
     "start_time": "2024-05-12T11:47:55.363941",
     "status": "completed"
    },
    "tags": [],
    "ExecuteTime": {
     "end_time": "2024-07-04T19:49:11.894723Z",
     "start_time": "2024-07-04T19:49:11.885836Z"
    }
   },
   "source": [
    "print(\"\\nFirst few rows of the DataFrame:\")\n",
    "print(data.head())"
   ],
   "outputs": [
    {
     "name": "stdout",
     "output_type": "stream",
     "text": [
      "\n",
      "First few rows of the DataFrame:\n",
      "  show_id     type                             title         director  \\\n",
      "0      s1    Movie              Dick Johnson Is Dead  Kirsten Johnson   \n",
      "1      s3  TV Show                         Ganglands  Julien Leclercq   \n",
      "2      s6  TV Show                     Midnight Mass    Mike Flanagan   \n",
      "3     s14    Movie  Confessions of an Invisible Girl    Bruno Garotti   \n",
      "4      s8    Movie                           Sankofa     Haile Gerima   \n",
      "\n",
      "         country date_added  release_year rating  duration  \\\n",
      "0  United States  9/25/2021          2020  PG-13    90 min   \n",
      "1         France  9/24/2021          2021  TV-MA  1 Season   \n",
      "2  United States  9/24/2021          2021  TV-MA  1 Season   \n",
      "3         Brazil  9/22/2021          2021  TV-PG    91 min   \n",
      "4  United States  9/24/2021          1993  TV-MA   125 min   \n",
      "\n",
      "                                           listed_in  \n",
      "0                                      Documentaries  \n",
      "1  Crime TV Shows, International TV Shows, TV Act...  \n",
      "2                 TV Dramas, TV Horror, TV Mysteries  \n",
      "3                 Children & Family Movies, Comedies  \n",
      "4   Dramas, Independent Movies, International Movies  \n"
     ]
    }
   ],
   "execution_count": 5
  },
  {
   "cell_type": "code",
   "id": "2a254fcd",
   "metadata": {
    "execution": {
     "iopub.execute_input": "2024-05-12T11:47:55.427195Z",
     "iopub.status.busy": "2024-05-12T11:47:55.426771Z",
     "iopub.status.idle": "2024-05-12T11:47:55.445377Z",
     "shell.execute_reply": "2024-05-12T11:47:55.444447Z"
    },
    "papermill": {
     "duration": 0.034395,
     "end_time": "2024-05-12T11:47:55.448001",
     "exception": false,
     "start_time": "2024-05-12T11:47:55.413606",
     "status": "completed"
    },
    "tags": [],
    "ExecuteTime": {
     "end_time": "2024-07-04T19:53:54.175264Z",
     "start_time": "2024-07-04T19:53:54.162469Z"
    }
   },
   "source": [
    "print(\"\\nStatistical summary of numerical columns:\")\n",
    "print(data.describe())"
   ],
   "outputs": [
    {
     "name": "stdout",
     "output_type": "stream",
     "text": [
      "\n",
      "Statistical summary of numerical columns:\n",
      "       release_year\n",
      "count   8790.000000\n",
      "mean    2014.183163\n",
      "std        8.825466\n",
      "min     1925.000000\n",
      "25%     2013.000000\n",
      "50%     2017.000000\n",
      "75%     2019.000000\n",
      "max     2021.000000\n"
     ]
    }
   ],
   "execution_count": 9
  },
  {
   "cell_type": "code",
   "id": "ad63fcc0",
   "metadata": {
    "execution": {
     "iopub.execute_input": "2024-05-12T11:47:55.473503Z",
     "iopub.status.busy": "2024-05-12T11:47:55.472931Z",
     "iopub.status.idle": "2024-05-12T11:47:55.506800Z",
     "shell.execute_reply": "2024-05-12T11:47:55.505103Z"
    },
    "papermill": {
     "duration": 0.049665,
     "end_time": "2024-05-12T11:47:55.509529",
     "exception": false,
     "start_time": "2024-05-12T11:47:55.459864",
     "status": "completed"
    },
    "tags": [],
    "ExecuteTime": {
     "end_time": "2024-07-04T19:54:26.309803Z",
     "start_time": "2024-07-04T19:54:26.303354Z"
    }
   },
   "source": "print(data.dtypes) ",
   "outputs": [
    {
     "name": "stdout",
     "output_type": "stream",
     "text": [
      "show_id         object\n",
      "type            object\n",
      "title           object\n",
      "director        object\n",
      "country         object\n",
      "date_added      object\n",
      "release_year     int64\n",
      "rating          object\n",
      "duration        object\n",
      "listed_in       object\n",
      "dtype: object\n"
     ]
    }
   ],
   "execution_count": 10
  },
  {
   "cell_type": "code",
   "execution_count": null,
   "id": "76a32c15",
   "metadata": {
    "execution": {
     "iopub.execute_input": "2024-05-12T11:47:55.535042Z",
     "iopub.status.busy": "2024-05-12T11:47:55.534586Z",
     "iopub.status.idle": "2024-05-12T11:47:55.554982Z",
     "shell.execute_reply": "2024-05-12T11:47:55.553435Z"
    },
    "papermill": {
     "duration": 0.036595,
     "end_time": "2024-05-12T11:47:55.557860",
     "exception": false,
     "start_time": "2024-05-12T11:47:55.521265",
     "status": "completed"
    },
    "tags": []
   },
   "outputs": [],
   "source": []
  },
  {
   "cell_type": "code",
   "execution_count": null,
   "id": "4ec37130",
   "metadata": {
    "execution": {
     "iopub.execute_input": "2024-05-12T11:47:55.584890Z",
     "iopub.status.busy": "2024-05-12T11:47:55.584458Z",
     "iopub.status.idle": "2024-05-12T11:47:55.591771Z",
     "shell.execute_reply": "2024-05-12T11:47:55.590879Z"
    },
    "papermill": {
     "duration": 0.024235,
     "end_time": "2024-05-12T11:47:55.594200",
     "exception": false,
     "start_time": "2024-05-12T11:47:55.569965",
     "status": "completed"
    },
    "tags": []
   },
   "outputs": [],
   "source": []
  },
  {
   "cell_type": "code",
   "execution_count": null,
   "id": "a40fad2f",
   "metadata": {
    "execution": {
     "iopub.execute_input": "2024-05-12T11:47:55.624250Z",
     "iopub.status.busy": "2024-05-12T11:47:55.623228Z",
     "iopub.status.idle": "2024-05-12T11:47:55.645773Z",
     "shell.execute_reply": "2024-05-12T11:47:55.644483Z"
    },
    "papermill": {
     "duration": 0.042088,
     "end_time": "2024-05-12T11:47:55.648748",
     "exception": false,
     "start_time": "2024-05-12T11:47:55.606660",
     "status": "completed"
    },
    "tags": []
   },
   "outputs": [],
   "source": []
  },
  {
   "cell_type": "markdown",
   "id": "eb01c011",
   "metadata": {
    "papermill": {
     "duration": 0.011622,
     "end_time": "2024-05-12T11:47:55.673036",
     "exception": false,
     "start_time": "2024-05-12T11:47:55.661414",
     "status": "completed"
    },
    "tags": []
   },
   "source": [
    "# 4. Data Cleaning"
   ]
  },
  {
   "cell_type": "code",
   "id": "498f46b8",
   "metadata": {
    "execution": {
     "iopub.execute_input": "2024-05-12T11:47:55.701584Z",
     "iopub.status.busy": "2024-05-12T11:47:55.700285Z",
     "iopub.status.idle": "2024-05-12T11:47:55.722705Z",
     "shell.execute_reply": "2024-05-12T11:47:55.721686Z"
    },
    "papermill": {
     "duration": 0.039661,
     "end_time": "2024-05-12T11:47:55.725480",
     "exception": false,
     "start_time": "2024-05-12T11:47:55.685819",
     "status": "completed"
    },
    "tags": [],
    "ExecuteTime": {
     "end_time": "2024-07-04T19:55:55.881951Z",
     "start_time": "2024-07-04T19:55:55.871661Z"
    }
   },
   "source": [
    "missing_values = data.isnull().sum()\n",
    "print(\"Columns with missing values:\")\n",
    "print(missing_values[missing_values > 0])"
   ],
   "outputs": [
    {
     "name": "stdout",
     "output_type": "stream",
     "text": [
      "Columns with missing values:\n",
      "Series([], dtype: int64)\n"
     ]
    }
   ],
   "execution_count": 11
  },
  {
   "cell_type": "code",
   "id": "da4a1cd9",
   "metadata": {
    "execution": {
     "iopub.execute_input": "2024-05-12T11:47:55.752970Z",
     "iopub.status.busy": "2024-05-12T11:47:55.752530Z",
     "iopub.status.idle": "2024-05-12T11:47:55.763551Z",
     "shell.execute_reply": "2024-05-12T11:47:55.762651Z"
    },
    "papermill": {
     "duration": 0.027862,
     "end_time": "2024-05-12T11:47:55.766219",
     "exception": false,
     "start_time": "2024-05-12T11:47:55.738357",
     "status": "completed"
    },
    "tags": [],
    "ExecuteTime": {
     "end_time": "2024-07-04T19:56:37.786338Z",
     "start_time": "2024-07-04T19:56:37.764269Z"
    }
   },
   "source": [
    "duplicate_rows = data.duplicated()\n",
    "num_duplicates = duplicate_rows.sum()\n",
    "data_cleaned = data[~duplicate_rows].copy()\n",
    "print(f\"Number of duplicate rows: {num_duplicates}\")"
   ],
   "outputs": [
    {
     "name": "stdout",
     "output_type": "stream",
     "text": [
      "Number of duplicate rows: 0\n"
     ]
    }
   ],
   "execution_count": 12
  },
  {
   "cell_type": "code",
   "id": "b4683384",
   "metadata": {
    "execution": {
     "iopub.execute_input": "2024-05-12T11:47:55.793536Z",
     "iopub.status.busy": "2024-05-12T11:47:55.792891Z",
     "iopub.status.idle": "2024-05-12T11:47:55.812353Z",
     "shell.execute_reply": "2024-05-12T11:47:55.810244Z"
    },
    "papermill": {
     "duration": 0.036393,
     "end_time": "2024-05-12T11:47:55.815422",
     "exception": false,
     "start_time": "2024-05-12T11:47:55.779029",
     "status": "completed"
    },
    "tags": [],
    "ExecuteTime": {
     "end_time": "2024-07-04T19:57:54.445826Z",
     "start_time": "2024-07-04T19:57:54.434258Z"
    }
   },
   "source": [
    "print(data.isnull().sum())\n",
    "\n"
   ],
   "outputs": [
    {
     "name": "stdout",
     "output_type": "stream",
     "text": [
      "show_id         0\n",
      "type            0\n",
      "title           0\n",
      "director        0\n",
      "country         0\n",
      "date_added      0\n",
      "release_year    0\n",
      "rating          0\n",
      "duration        0\n",
      "listed_in       0\n",
      "dtype: int64\n"
     ]
    }
   ],
   "execution_count": 13
  },
  {
   "cell_type": "markdown",
   "id": "0ce1221c",
   "metadata": {
    "papermill": {
     "duration": 0.012237,
     "end_time": "2024-05-12T11:47:55.866410",
     "exception": false,
     "start_time": "2024-05-12T11:47:55.854173",
     "status": "completed"
    },
    "tags": []
   },
   "source": [
    "# Total Content on Netflix"
   ]
  },
  {
   "cell_type": "code",
   "id": "864187a3",
   "metadata": {
    "execution": {
     "iopub.execute_input": "2024-05-12T11:47:55.893987Z",
     "iopub.status.busy": "2024-05-12T11:47:55.892692Z",
     "iopub.status.idle": "2024-05-12T11:47:55.904083Z",
     "shell.execute_reply": "2024-05-12T11:47:55.902729Z"
    },
    "papermill": {
     "duration": 0.027497,
     "end_time": "2024-05-12T11:47:55.906504",
     "exception": false,
     "start_time": "2024-05-12T11:47:55.879007",
     "status": "completed"
    },
    "tags": [],
    "ExecuteTime": {
     "end_time": "2024-07-04T20:02:03.560187Z",
     "start_time": "2024-07-04T20:02:03.544911Z"
    }
   },
   "source": [
    "movies = data[data['type'] == 'Movie'].shape[0]\n",
    "tv_shows = data[data['type'] == 'TV Show'].shape[0]\n",
    "\n",
    "print(f\"Total Number Of Movies on Netflix: {movies}\")\n",
    "print(f\"Total Number Of TV Shows on Netflix: {tv_shows}\")"
   ],
   "outputs": [
    {
     "name": "stdout",
     "output_type": "stream",
     "text": [
      "Total Number Of Movies on Netflix: 6126\n",
      "Total Number Of TV Shows on Netflix: 2664\n"
     ]
    }
   ],
   "execution_count": 15
  },
  {
   "cell_type": "markdown",
   "id": "0a7023b5",
   "metadata": {
    "papermill": {
     "duration": 0.012666,
     "end_time": "2024-05-12T11:47:56.418013",
     "exception": false,
     "start_time": "2024-05-12T11:47:56.405347",
     "status": "completed"
    },
    "tags": []
   },
   "source": [
    "#  Top 10 countries with Netflix Content"
   ]
  },
  {
   "cell_type": "code",
   "id": "6e1e99a1",
   "metadata": {
    "execution": {
     "iopub.execute_input": "2024-05-12T11:47:56.446650Z",
     "iopub.status.busy": "2024-05-12T11:47:56.446202Z",
     "iopub.status.idle": "2024-05-12T11:47:56.463860Z",
     "shell.execute_reply": "2024-05-12T11:47:56.462623Z"
    },
    "papermill": {
     "duration": 0.034952,
     "end_time": "2024-05-12T11:47:56.466497",
     "exception": false,
     "start_time": "2024-05-12T11:47:56.431545",
     "status": "completed"
    },
    "tags": [],
    "ExecuteTime": {
     "end_time": "2024-07-04T20:02:26.279282Z",
     "start_time": "2024-07-04T20:02:26.271747Z"
    }
   },
   "source": [
    "top_countries = data['country'].value_counts().head(10)\n",
    "print(\"Top 10 Countries with Netflix Content:\")\n",
    "print(top_countries)"
   ],
   "outputs": [
    {
     "name": "stdout",
     "output_type": "stream",
     "text": [
      "Top 10 Countries with Netflix Content:\n",
      "country\n",
      "United States     3240\n",
      "India             1057\n",
      "United Kingdom     638\n",
      "Pakistan           421\n",
      "Not Given          287\n",
      "Canada             271\n",
      "Japan              259\n",
      "South Korea        214\n",
      "France             213\n",
      "Spain              182\n",
      "Name: count, dtype: int64\n"
     ]
    }
   ],
   "execution_count": 16
  },
  {
   "cell_type": "markdown",
   "id": "4927bea3",
   "metadata": {
    "papermill": {
     "duration": 0.013929,
     "end_time": "2024-05-12T11:47:56.879102",
     "exception": false,
     "start_time": "2024-05-12T11:47:56.865173",
     "status": "completed"
    },
    "tags": []
   },
   "source": [
    "# Monthly Trend of Movie and TV Show Releases"
   ]
  },
  {
   "cell_type": "code",
   "id": "167475f2",
   "metadata": {
    "execution": {
     "iopub.execute_input": "2024-05-12T11:47:56.910231Z",
     "iopub.status.busy": "2024-05-12T11:47:56.909461Z",
     "iopub.status.idle": "2024-05-12T11:47:57.312675Z",
     "shell.execute_reply": "2024-05-12T11:47:57.311677Z"
    },
    "papermill": {
     "duration": 0.421824,
     "end_time": "2024-05-12T11:47:57.315283",
     "exception": false,
     "start_time": "2024-05-12T11:47:56.893459",
     "status": "completed"
    },
    "tags": [],
    "ExecuteTime": {
     "end_time": "2024-07-04T20:04:09.542501Z",
     "start_time": "2024-07-04T20:04:09.125288Z"
    }
   },
   "source": [
    "data['date_added'] = pd.to_datetime(data['date_added'])\n",
    "data['month_added'] = data['date_added'].dt.month\n",
    "data['year_added'] = data['date_added'].dt.year\n",
    "\n",
    "movies = data[data['type'] == 'Movie']\n",
    "tv_shows = data[data['type'] == 'TV Show']\n",
    "plt.figure(figsize=(12, 6))\n",
    "sns.countplot(x='month_added', hue='type', data=data, palette='viridis')\n",
    "plt.title('Monthly Trend of Movie and TV Show Releases')\n",
    "plt.xlabel('Month')\n",
    "plt.ylabel('Number of Releases')\n",
    "plt.xticks(range(1, 13), calendar.month_name[1:13], rotation=45)\n",
    "plt.legend(title='Type', loc='upper right')\n",
    "plt.tight_layout()\n",
    "plt.show()"
   ],
   "outputs": [
    {
     "data": {
      "text/plain": [
       "<Figure size 1200x600 with 1 Axes>"
      ],
      "image/png": "[encoded data removed]"
     },
     "metadata": {},
     "output_type": "display_data"
    }
   ],
   "execution_count": 17
  },
  {
   "cell_type": "markdown",
   "id": "fdca9b6f",
   "metadata": {
    "papermill": {
     "duration": 0.015577,
     "end_time": "2024-05-12T11:47:57.347124",
     "exception": false,
     "start_time": "2024-05-12T11:47:57.331547",
     "status": "completed"
    },
    "tags": []
   },
   "source": [
    "#  Yearly Trend of Movie and TV Show Releases"
   ]
  },
  {
   "cell_type": "code",
   "execution_count": null,
   "id": "7a5a6a89",
   "metadata": {
    "execution": {
     "iopub.execute_input": "2024-05-12T11:47:57.381058Z",
     "iopub.status.busy": "2024-05-12T11:47:57.380234Z",
     "iopub.status.idle": "2024-05-12T11:47:57.776608Z",
     "shell.execute_reply": "2024-05-12T11:47:57.775733Z"
    },
    "papermill": {
     "duration": 0.416226,
     "end_time": "2024-05-12T11:47:57.778927",
     "exception": false,
     "start_time": "2024-05-12T11:47:57.362701",
     "status": "completed"
    },
    "tags": []
   },
   "outputs": [],
   "source": [
    "plt.figure(figsize=(12, 6))\n",
    "sns.countplot(x='year_added', hue='type', data=data, palette='viridis')\n",
    "plt.title('Yearly Trend of Movie and TV Show Releases')\n",
    "plt.xlabel('Year')\n",
    "plt.ylabel('Number of Releases')\n",
    "plt.legend(title='Type', loc='upper right')\n",
    "plt.tight_layout()\n",
    "plt.show()"
   ]
  },
  {
   "cell_type": "markdown",
   "id": "a9c53bf2",
   "metadata": {
    "papermill": {
     "duration": 0.016494,
     "end_time": "2024-05-12T11:47:57.812428",
     "exception": false,
     "start_time": "2024-05-12T11:47:57.795934",
     "status": "completed"
    },
    "tags": []
   },
   "source": [
    "# Top 10 Movies"
   ]
  },
  {
   "cell_type": "code",
   "id": "80901ec3",
   "metadata": {
    "execution": {
     "iopub.execute_input": "2024-05-12T11:47:57.848387Z",
     "iopub.status.busy": "2024-05-12T11:47:57.847313Z",
     "iopub.status.idle": "2024-05-12T11:47:58.254510Z",
     "shell.execute_reply": "2024-05-12T11:47:58.253361Z"
    },
    "papermill": {
     "duration": 0.429478,
     "end_time": "2024-05-12T11:47:58.257988",
     "exception": false,
     "start_time": "2024-05-12T11:47:57.828510",
     "status": "completed"
    },
    "tags": [],
    "ExecuteTime": {
     "end_time": "2024-07-04T20:07:09.321339Z",
     "start_time": "2024-07-04T20:07:09.306124Z"
    }
   },
   "source": [
    "data['rating'] = pd.to_numeric(data['rating'], errors='coerce')\n",
    "top_movies = data[data['type'] == 'Movie'].nlargest(10, 'rating')\n",
    "print(top_movies[['title', 'rating']])"
   ],
   "outputs": [
    {
     "name": "stdout",
     "output_type": "stream",
     "text": [
      "                               title  rating\n",
      "0               Dick Johnson Is Dead     NaN\n",
      "3   Confessions of an Invisible Girl     NaN\n",
      "4                            Sankofa     NaN\n",
      "6                       The Starling     NaN\n",
      "7    Motu Patlu in the Game of Zones     NaN\n",
      "8                       Je Suis Karl     NaN\n",
      "9           Motu Patlu in Wonderland     NaN\n",
      "10    Motu Patlu: Deep Sea Adventure     NaN\n",
      "11          Motu Patlu: Mission Moon     NaN\n",
      "12                  99 Songs (Tamil)     NaN\n"
     ]
    }
   ],
   "execution_count": 19
  },
  {
   "cell_type": "markdown",
   "id": "94ee0043",
   "metadata": {
    "papermill": {
     "duration": 0.018256,
     "end_time": "2024-05-12T11:47:58.294946",
     "exception": false,
     "start_time": "2024-05-12T11:47:58.276690",
     "status": "completed"
    },
    "tags": []
   },
   "source": [
    "# Top 10 TV Show"
   ]
  },
  {
   "cell_type": "code",
   "id": "bfa34cff",
   "metadata": {
    "execution": {
     "iopub.execute_input": "2024-05-12T11:47:58.334422Z",
     "iopub.status.busy": "2024-05-12T11:47:58.333519Z",
     "iopub.status.idle": "2024-05-12T11:47:58.743291Z",
     "shell.execute_reply": "2024-05-12T11:47:58.740473Z"
    },
    "papermill": {
     "duration": 0.433393,
     "end_time": "2024-05-12T11:47:58.747081",
     "exception": false,
     "start_time": "2024-05-12T11:47:58.313688",
     "status": "completed"
    },
    "tags": [],
    "ExecuteTime": {
     "end_time": "2024-07-04T20:07:11.680640Z",
     "start_time": "2024-07-04T20:07:11.667928Z"
    }
   },
   "source": [
    "\n",
    "top_tv_shows = data[data['type'] == 'TV Show'].nlargest(10, 'rating')\n",
    "\n",
    "print(top_tv_shows[['title', 'rating']])"
   ],
   "outputs": [
    {
     "name": "stdout",
     "output_type": "stream",
     "text": [
      "                                              title  rating\n",
      "1                                         Ganglands     NaN\n",
      "2                                     Midnight Mass     NaN\n",
      "5                     The Great British Baking Show     NaN\n",
      "17                            Jailbirds New Orleans     NaN\n",
      "18                  Crime Stories: India Detectives     NaN\n",
      "20                            True: Magical Friends     NaN\n",
      "21                           True: Wonderful Wishes     NaN\n",
      "22                           Dance & Sing with True     NaN\n",
      "24                                 Bangkok Breaking     NaN\n",
      "27  Monsters Inside: The 24 Faces of Billy Milligan     NaN\n"
     ]
    }
   ],
   "execution_count": 20
  },
  {
   "cell_type": "markdown",
   "id": "afd33407",
   "metadata": {
    "papermill": {
     "duration": 0.026323,
     "end_time": "2024-05-12T11:47:58.799910",
     "exception": false,
     "start_time": "2024-05-12T11:47:58.773587",
     "status": "completed"
    },
    "tags": []
   },
   "source": [
    "#  Top_10_Directors"
   ]
  },
  {
   "cell_type": "code",
   "id": "5374900e",
   "metadata": {
    "execution": {
     "iopub.execute_input": "2024-05-12T11:47:58.842128Z",
     "iopub.status.busy": "2024-05-12T11:47:58.841737Z",
     "iopub.status.idle": "2024-05-12T11:47:58.857659Z",
     "shell.execute_reply": "2024-05-12T11:47:58.856365Z"
    },
    "papermill": {
     "duration": 0.040945,
     "end_time": "2024-05-12T11:47:58.861845",
     "exception": false,
     "start_time": "2024-05-12T11:47:58.820900",
     "status": "completed"
    },
    "tags": [],
    "ExecuteTime": {
     "end_time": "2024-07-04T20:07:27.770751Z",
     "start_time": "2024-07-04T20:07:27.762547Z"
    }
   },
   "source": [
    "director = data['director'].value_counts()\n",
    "top_10_directors = director.head(10)\n",
    "print(top_10_directors)"
   ],
   "outputs": [
    {
     "name": "stdout",
     "output_type": "stream",
     "text": [
      "director\n",
      "Not Given                 2588\n",
      "Rajiv Chilaka               20\n",
      "Alastair Fothergill         18\n",
      "Raúl Campos, Jan Suter      18\n",
      "Suhas Kadav                 16\n",
      "Marcus Raboy                16\n",
      "Jay Karas                   14\n",
      "Cathy Garcia-Molina         13\n",
      "Martin Scorsese             12\n",
      "Youssef Chahine             12\n",
      "Name: count, dtype: int64\n"
     ]
    }
   ],
   "execution_count": 21
  },
  {
   "metadata": {},
   "cell_type": "code",
   "outputs": [],
   "execution_count": null,
   "source": "",
   "id": "720e58f9bcdf7885"
  }
 ],
 "metadata": {
  "kaggle": {
   "accelerator": "none",
   "dataSources": [
    {
     "datasetId": 2437124,
     "sourceId": 4123716,
     "sourceType": "datasetVersion"
    }
   ],
   "dockerImageVersionId": 30698,
   "isGpuEnabled": false,
   "isInternetEnabled": true,
   "language": "python",
   "sourceType": "notebook"
  },
  "kernelspec": {
   "display_name": "Python 3 (ipykernel)",
   "language": "python",
   "name": "python3"
  },
  "language_info": {
   "codemirror_mode": {
    "name": "ipython",
    "version": 3
   },
   "file_extension": ".py",
   "mimetype": "text/x-python",
   "name": "python",
   "nbconvert_exporter": "python",
   "pygments_lexer": "ipython3",
   "version": "3.9.13"
  },
  "papermill": {
   "default_parameters": {},
   "duration": 10.67954,
   "end_time": "2024-05-12T11:48:00.055771",
   "environment_variables": {},
   "exception": null,
   "input_path": "__notebook__.ipynb",
   "output_path": "__notebook__.ipynb",
   "parameters": {},
   "start_time": "2024-05-12T11:47:49.376231",
   "version": "2.5.0"
  }
 },
 "nbformat": 4,
 "nbformat_minor": 5
}
