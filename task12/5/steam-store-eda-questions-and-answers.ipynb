{
 "cells": [
  {
   "cell_type": "markdown",
   "id": "bd3a53ec",
   "metadata": {
    "papermill": {
     "duration": 0.015698,
     "end_time": "2023-06-14T00:50:17.174212",
     "exception": false,
     "start_time": "2023-06-14T00:50:17.158514",
     "status": "completed"
    },
    "tags": []
   },
   "source": [
    "# Introduction\n",
    "\n",
    "The data was gathered around May 2019, utilizing the Steam Store and SteamSpy APIs, as stated by the dataset's author on the description.\n",
    "\n",
    "This is an exploratory analysis of this dataset, mainly utilizing Pandas and its functions. I will try to answer the following questions:\n",
    "\n",
    "- Top 20 games with the most positive ratings\n",
    "- Top 20 games with the most negative ratings\n",
    "- Top 20 games with the highest average playtime\n",
    "- Price analysis\n",
    "- Distribution of genres\n",
    "- Publishers with the highest number of games\n",
    "- Games released by year\n",
    "- What does ownership look like"
   ]
  },
  {
   "cell_type": "code",
   "id": "31d51214",
   "metadata": {
    "execution": {
     "iopub.execute_input": "2023-06-14T00:50:15.605934Z",
     "iopub.status.busy": "2023-06-14T00:50:15.605544Z",
     "iopub.status.idle": "2023-06-14T00:50:17.139912Z",
     "shell.execute_reply": "2023-06-14T00:50:17.138604Z"
    },
    "papermill": {
     "duration": 1.55474,
     "end_time": "2023-06-14T00:50:17.142424",
     "exception": false,
     "start_time": "2023-06-14T00:50:15.587684",
     "status": "completed"
    },
    "tags": [],
    "ExecuteTime": {
     "end_time": "2024-07-04T20:14:15.036199Z",
     "start_time": "2024-07-04T20:14:15.031120Z"
    }
   },
   "source": [
    "import pandas as pd \n",
    " \n"
   ],
   "outputs": [],
   "execution_count": 2
  },
  {
   "cell_type": "markdown",
   "id": "24cfcf84",
   "metadata": {
    "papermill": {
     "duration": 0.015679,
     "end_time": "2023-06-14T00:50:17.205782",
     "exception": false,
     "start_time": "2023-06-14T00:50:17.190103",
     "status": "completed"
    },
    "tags": []
   },
   "source": [
    "## **Initial Dataset Examination**"
   ]
  },
  {
   "cell_type": "code",
   "id": "27f47381",
   "metadata": {
    "execution": {
     "iopub.execute_input": "2023-06-14T00:50:17.240154Z",
     "iopub.status.busy": "2023-06-14T00:50:17.239416Z",
     "iopub.status.idle": "2023-06-14T00:50:17.555986Z",
     "shell.execute_reply": "2023-06-14T00:50:17.554740Z"
    },
    "papermill": {
     "duration": 0.3364,
     "end_time": "2023-06-14T00:50:17.558384",
     "exception": false,
     "start_time": "2023-06-14T00:50:17.221984",
     "status": "completed"
    },
    "tags": [],
    "ExecuteTime": {
     "end_time": "2024-07-04T20:14:20.934125Z",
     "start_time": "2024-07-04T20:14:20.755091Z"
    }
   },
   "source": "steam_data = pd.read_csv('steam.csv')",
   "outputs": [],
   "execution_count": 3
  },
  {
   "cell_type": "code",
   "id": "03b3edf6",
   "metadata": {
    "execution": {
     "iopub.execute_input": "2023-06-14T00:50:17.592798Z",
     "iopub.status.busy": "2023-06-14T00:50:17.592361Z",
     "iopub.status.idle": "2023-06-14T00:50:17.614025Z",
     "shell.execute_reply": "2023-06-14T00:50:17.612864Z"
    },
    "papermill": {
     "duration": 0.041866,
     "end_time": "2023-06-14T00:50:17.616703",
     "exception": false,
     "start_time": "2023-06-14T00:50:17.574837",
     "status": "completed"
    },
    "tags": [],
    "ExecuteTime": {
     "end_time": "2024-07-04T20:14:23.336455Z",
     "start_time": "2024-07-04T20:14:23.325687Z"
    }
   },
   "source": "print(steam_data)",
   "outputs": [
    {
     "name": "stdout",
     "output_type": "stream",
     "text": [
      "         appid                        name release_date  english  \\\n",
      "0           10              Counter-Strike   2000-11-01        1   \n",
      "1           20       Team Fortress Classic   1999-04-01        1   \n",
      "2           30               Day of Defeat   2003-05-01        1   \n",
      "3           40          Deathmatch Classic   2001-06-01        1   \n",
      "4           50   Half-Life: Opposing Force   1999-11-01        1   \n",
      "...        ...                         ...          ...      ...   \n",
      "27070  1065230             Room of Pandora   2019-04-24        1   \n",
      "27071  1065570                   Cyber Gun   2019-04-23        1   \n",
      "27072  1065650            Super Star Blast   2019-04-24        1   \n",
      "27073  1066700  New Yankee 7: Deer Hunters   2019-04-17        1   \n",
      "27074  1069460                   Rune Lord   2019-04-24        1   \n",
      "\n",
      "                developer             publisher          platforms  \\\n",
      "0                   Valve                 Valve  windows;mac;linux   \n",
      "1                   Valve                 Valve  windows;mac;linux   \n",
      "2                   Valve                 Valve  windows;mac;linux   \n",
      "3                   Valve                 Valve  windows;mac;linux   \n",
      "4        Gearbox Software                 Valve  windows;mac;linux   \n",
      "...                   ...                   ...                ...   \n",
      "27070         SHEN JIAWEI           SHEN JIAWEI            windows   \n",
      "27071      Semyon Maximov      BekkerDev Studio            windows   \n",
      "27072         EntwicklerX           EntwicklerX            windows   \n",
      "27073  Yustas Game Studio  Alawar Entertainment        windows;mac   \n",
      "27074    Adept Studios GD  Alawar Entertainment        windows;mac   \n",
      "\n",
      "       required_age                                         categories  \\\n",
      "0                 0  Multi-player;Online Multi-Player;Local Multi-P...   \n",
      "1                 0  Multi-player;Online Multi-Player;Local Multi-P...   \n",
      "2                 0              Multi-player;Valve Anti-Cheat enabled   \n",
      "3                 0  Multi-player;Online Multi-Player;Local Multi-P...   \n",
      "4                 0  Single-player;Multi-player;Valve Anti-Cheat en...   \n",
      "...             ...                                                ...   \n",
      "27070             0                   Single-player;Steam Achievements   \n",
      "27071             0                                      Single-player   \n",
      "27072             0  Single-player;Multi-player;Co-op;Shared/Split ...   \n",
      "27073             0                          Single-player;Steam Cloud   \n",
      "27074             0                          Single-player;Steam Cloud   \n",
      "\n",
      "                       genres                 steamspy_tags  achievements  \\\n",
      "0                      Action        Action;FPS;Multiplayer             0   \n",
      "1                      Action        Action;FPS;Multiplayer             0   \n",
      "2                      Action  FPS;World War II;Multiplayer             0   \n",
      "3                      Action        Action;FPS;Multiplayer             0   \n",
      "4                      Action             FPS;Action;Sci-fi             0   \n",
      "...                       ...                           ...           ...   \n",
      "27070  Adventure;Casual;Indie        Adventure;Indie;Casual             7   \n",
      "27071  Action;Adventure;Indie        Action;Indie;Adventure             0   \n",
      "27072     Action;Casual;Indie           Action;Indie;Casual            24   \n",
      "27073  Adventure;Casual;Indie        Indie;Casual;Adventure             0   \n",
      "27074  Adventure;Casual;Indie        Indie;Casual;Adventure             0   \n",
      "\n",
      "       positive_ratings  negative_ratings  average_playtime  median_playtime  \\\n",
      "0                124534              3339             17612              317   \n",
      "1                  3318               633               277               62   \n",
      "2                  3416               398               187               34   \n",
      "3                  1273               267               258              184   \n",
      "4                  5250               288               624              415   \n",
      "...                 ...               ...               ...              ...   \n",
      "27070                 3                 0                 0                0   \n",
      "27071                 8                 1                 0                0   \n",
      "27072                 0                 1                 0                0   \n",
      "27073                 2                 0                 0                0   \n",
      "27074                 4                 0                 0                0   \n",
      "\n",
      "                  owners  price  \n",
      "0      10000000-20000000   7.19  \n",
      "1       5000000-10000000   3.99  \n",
      "2       5000000-10000000   3.99  \n",
      "3       5000000-10000000   3.99  \n",
      "4       5000000-10000000   3.99  \n",
      "...                  ...    ...  \n",
      "27070            0-20000   2.09  \n",
      "27071            0-20000   1.69  \n",
      "27072            0-20000   3.99  \n",
      "27073            0-20000   5.19  \n",
      "27074            0-20000   5.19  \n",
      "\n",
      "[27075 rows x 18 columns]\n"
     ]
    }
   ],
   "execution_count": 4
  },
  {
   "cell_type": "markdown",
   "id": "d71ae2af",
   "metadata": {
    "papermill": {
     "duration": 0.016408,
     "end_time": "2023-06-14T00:50:17.649920",
     "exception": false,
     "start_time": "2023-06-14T00:50:17.633512",
     "status": "completed"
    },
    "tags": []
   },
   "source": [
    "Getting a summary of the statistics in my dataset"
   ]
  },
  {
   "cell_type": "code",
   "id": "9f939b8c",
   "metadata": {
    "execution": {
     "iopub.execute_input": "2023-06-14T00:50:17.689345Z",
     "iopub.status.busy": "2023-06-14T00:50:17.688649Z",
     "iopub.status.idle": "2023-06-14T00:50:17.740519Z",
     "shell.execute_reply": "2023-06-14T00:50:17.739402Z"
    },
    "papermill": {
     "duration": 0.076121,
     "end_time": "2023-06-14T00:50:17.743088",
     "exception": false,
     "start_time": "2023-06-14T00:50:17.666967",
     "status": "completed"
    },
    "tags": [],
    "ExecuteTime": {
     "end_time": "2024-07-04T20:14:26.512840Z",
     "start_time": "2024-07-04T20:14:26.485310Z"
    }
   },
   "source": "summary_stats = steam_data.describe()",
   "outputs": [],
   "execution_count": 5
  },
  {
   "cell_type": "code",
   "id": "d4644166",
   "metadata": {
    "execution": {
     "iopub.execute_input": "2023-06-14T00:50:17.779637Z",
     "iopub.status.busy": "2023-06-14T00:50:17.778890Z",
     "iopub.status.idle": "2023-06-14T00:50:17.879727Z",
     "shell.execute_reply": "2023-06-14T00:50:17.878330Z"
    },
    "papermill": {
     "duration": 0.122217,
     "end_time": "2023-06-14T00:50:17.882622",
     "exception": false,
     "start_time": "2023-06-14T00:50:17.760405",
     "status": "completed"
    },
    "tags": [],
    "ExecuteTime": {
     "end_time": "2024-07-04T20:14:29.000330Z",
     "start_time": "2024-07-04T20:14:28.992241Z"
    }
   },
   "source": "print(summary_stats)",
   "outputs": [
    {
     "name": "stdout",
     "output_type": "stream",
     "text": [
      "              appid       english  required_age  achievements  \\\n",
      "count  2.707500e+04  27075.000000  27075.000000  27075.000000   \n",
      "mean   5.962035e+05      0.981127      0.354903     45.248864   \n",
      "std    2.508942e+05      0.136081      2.406044    352.670281   \n",
      "min    1.000000e+01      0.000000      0.000000      0.000000   \n",
      "25%    4.012300e+05      1.000000      0.000000      0.000000   \n",
      "50%    5.990700e+05      1.000000      0.000000      7.000000   \n",
      "75%    7.987600e+05      1.000000      0.000000     23.000000   \n",
      "max    1.069460e+06      1.000000     18.000000   9821.000000   \n",
      "\n",
      "       positive_ratings  negative_ratings  average_playtime  median_playtime  \\\n",
      "count      2.707500e+04      27075.000000      27075.000000      27075.00000   \n",
      "mean       1.000559e+03        211.027147        149.804949        146.05603   \n",
      "std        1.898872e+04       4284.938531       1827.038141       2353.88008   \n",
      "min        0.000000e+00          0.000000          0.000000          0.00000   \n",
      "25%        6.000000e+00          2.000000          0.000000          0.00000   \n",
      "50%        2.400000e+01          9.000000          0.000000          0.00000   \n",
      "75%        1.260000e+02         42.000000          0.000000          0.00000   \n",
      "max        2.644404e+06     487076.000000     190625.000000     190625.00000   \n",
      "\n",
      "              price  \n",
      "count  27075.000000  \n",
      "mean       6.078193  \n",
      "std        7.874922  \n",
      "min        0.000000  \n",
      "25%        1.690000  \n",
      "50%        3.990000  \n",
      "75%        7.190000  \n",
      "max      421.990000  \n"
     ]
    }
   ],
   "execution_count": 6
  },
  {
   "cell_type": "markdown",
   "id": "5bd73b9d",
   "metadata": {
    "papermill": {
     "duration": 0.016844,
     "end_time": "2023-06-14T00:50:17.916632",
     "exception": false,
     "start_time": "2023-06-14T00:50:17.899788",
     "status": "completed"
    },
    "tags": []
   },
   "source": [
    "Verifying how many lines and columns my dataset has"
   ]
  },
  {
   "metadata": {},
   "cell_type": "code",
   "outputs": [],
   "execution_count": null,
   "source": "",
   "id": "8a9048507a9b2700"
  },
  {
   "cell_type": "code",
   "id": "37e86eff",
   "metadata": {
    "execution": {
     "iopub.execute_input": "2023-06-14T00:50:17.953262Z",
     "iopub.status.busy": "2023-06-14T00:50:17.952823Z",
     "iopub.status.idle": "2023-06-14T00:50:17.958521Z",
     "shell.execute_reply": "2023-06-14T00:50:17.957398Z"
    },
    "papermill": {
     "duration": 0.026829,
     "end_time": "2023-06-14T00:50:17.961287",
     "exception": false,
     "start_time": "2023-06-14T00:50:17.934458",
     "status": "completed"
    },
    "tags": [],
    "ExecuteTime": {
     "end_time": "2024-07-04T20:14:45.184731Z",
     "start_time": "2024-07-04T20:14:45.179591Z"
    }
   },
   "source": "num_rows, num_cols = steam_data.shape",
   "outputs": [],
   "execution_count": 8
  },
  {
   "cell_type": "markdown",
   "id": "aa5cfa88",
   "metadata": {
    "papermill": {
     "duration": 0.017596,
     "end_time": "2023-06-14T00:50:17.996775",
     "exception": false,
     "start_time": "2023-06-14T00:50:17.979179",
     "status": "completed"
    },
    "tags": []
   },
   "source": [
    "Checking if there are any null values in my dataframe. This is good practice, although this dataset was already cleaned by the author."
   ]
  },
  {
   "cell_type": "code",
   "id": "7740cf7e",
   "metadata": {
    "execution": {
     "iopub.execute_input": "2023-06-14T00:50:18.034586Z",
     "iopub.status.busy": "2023-06-14T00:50:18.033442Z",
     "iopub.status.idle": "2023-06-14T00:50:18.118590Z",
     "shell.execute_reply": "2023-06-14T00:50:18.116719Z"
    },
    "papermill": {
     "duration": 0.106553,
     "end_time": "2023-06-14T00:50:18.121240",
     "exception": false,
     "start_time": "2023-06-14T00:50:18.014687",
     "status": "completed"
    },
    "tags": [],
    "ExecuteTime": {
     "end_time": "2024-07-04T20:14:52.034885Z",
     "start_time": "2024-07-04T20:14:52.022468Z"
    }
   },
   "source": "null_counts = steam_data.isnull().sum()",
   "outputs": [],
   "execution_count": 9
  },
  {
   "cell_type": "markdown",
   "id": "ee9466c2",
   "metadata": {
    "papermill": {
     "duration": 0.016905,
     "end_time": "2023-06-14T00:50:18.155504",
     "exception": false,
     "start_time": "2023-06-14T00:50:18.138599",
     "status": "completed"
    },
    "tags": []
   },
   "source": [
    "Columns appid and steamspy_tags will be dropped. The former because it doesn't have any relevant information for this exploratory analysis, and the latter because it has very similar data to the genres column, and that is the chosen column to be used in this analysis."
   ]
  },
  {
   "cell_type": "code",
   "execution_count": null,
   "id": "4de0fe4b",
   "metadata": {
    "execution": {
     "iopub.execute_input": "2023-06-14T00:50:18.192045Z",
     "iopub.status.busy": "2023-06-14T00:50:18.191650Z",
     "iopub.status.idle": "2023-06-14T00:50:18.216809Z",
     "shell.execute_reply": "2023-06-14T00:50:18.215606Z"
    },
    "papermill": {
     "duration": 0.04694,
     "end_time": "2023-06-14T00:50:18.219595",
     "exception": false,
     "start_time": "2023-06-14T00:50:18.172655",
     "status": "completed"
    },
    "tags": []
   },
   "outputs": [],
   "source": "steam_data.drop(columns=['appid', 'steamspy_tags'], inplace=True)"
  },
  {
   "cell_type": "markdown",
   "id": "5ffe4926",
   "metadata": {
    "papermill": {
     "duration": 0.017686,
     "end_time": "2023-06-14T00:50:18.255044",
     "exception": false,
     "start_time": "2023-06-14T00:50:18.237358",
     "status": "completed"
    },
    "tags": []
   },
   "source": [
    "Altering the genres column inplace. Since this column has many genres separated by semicolons, we will disregard the ones that come after the first and consider that the main genre."
   ]
  },
  {
   "cell_type": "code",
   "id": "8776db99",
   "metadata": {
    "execution": {
     "iopub.execute_input": "2023-06-14T00:50:18.292761Z",
     "iopub.status.busy": "2023-06-14T00:50:18.292340Z",
     "iopub.status.idle": "2023-06-14T00:50:18.364447Z",
     "shell.execute_reply": "2023-06-14T00:50:18.363347Z"
    },
    "papermill": {
     "duration": 0.094081,
     "end_time": "2023-06-14T00:50:18.367081",
     "exception": false,
     "start_time": "2023-06-14T00:50:18.273000",
     "status": "completed"
    },
    "tags": [],
    "ExecuteTime": {
     "end_time": "2024-07-04T20:15:01.157855Z",
     "start_time": "2024-07-04T20:15:01.142762Z"
    }
   },
   "source": "steam_data['genres'] = steam_data['genres'].apply(lambda x: x.split(';')[0])",
   "outputs": [],
   "execution_count": 10
  },
  {
   "cell_type": "markdown",
   "id": "7ecd1bd7",
   "metadata": {
    "papermill": {
     "duration": 0.017607,
     "end_time": "2023-06-14T00:50:18.402769",
     "exception": false,
     "start_time": "2023-06-14T00:50:18.385162",
     "status": "completed"
    },
    "tags": []
   },
   "source": [
    "There's a lot of zeroes in the column required_age, so a query is run to check whether that is the situation for the entire column or not, in case it's bad data"
   ]
  },
  {
   "cell_type": "code",
   "id": "cd59cff0",
   "metadata": {
    "execution": {
     "iopub.execute_input": "2023-06-14T00:50:18.440677Z",
     "iopub.status.busy": "2023-06-14T00:50:18.440286Z",
     "iopub.status.idle": "2023-06-14T00:50:18.476052Z",
     "shell.execute_reply": "2023-06-14T00:50:18.474831Z"
    },
    "papermill": {
     "duration": 0.058278,
     "end_time": "2023-06-14T00:50:18.478942",
     "exception": false,
     "start_time": "2023-06-14T00:50:18.420664",
     "status": "completed"
    },
    "tags": [],
    "ExecuteTime": {
     "end_time": "2024-07-04T20:15:08.704650Z",
     "start_time": "2024-07-04T20:15:08.697097Z"
    }
   },
   "source": "required_age_counts = steam_data['required_age'].value_counts()",
   "outputs": [],
   "execution_count": 11
  },
  {
   "cell_type": "markdown",
   "id": "ae2f58cc",
   "metadata": {
    "papermill": {
     "duration": 0.018572,
     "end_time": "2023-06-14T00:50:18.516679",
     "exception": false,
     "start_time": "2023-06-14T00:50:18.498107",
     "status": "completed"
    },
    "tags": []
   },
   "source": [
    "## **Top 20 Games with the Most Positive Ratings**\n",
    "\n",
    "Discovering the top 20 games with the most positive reviews on Steam. First, the 20 largest values in the positive_ratings column will be filtered."
   ]
  },
  {
   "cell_type": "code",
   "id": "4d03ee84",
   "metadata": {
    "execution": {
     "iopub.execute_input": "2023-06-14T00:50:18.556862Z",
     "iopub.status.busy": "2023-06-14T00:50:18.556242Z",
     "iopub.status.idle": "2023-06-14T00:50:18.569631Z",
     "shell.execute_reply": "2023-06-14T00:50:18.568428Z"
    },
    "papermill": {
     "duration": 0.036021,
     "end_time": "2023-06-14T00:50:18.572050",
     "exception": false,
     "start_time": "2023-06-14T00:50:18.536029",
     "status": "completed"
    },
    "tags": [],
    "ExecuteTime": {
     "end_time": "2024-07-04T20:15:17.217954Z",
     "start_time": "2024-07-04T20:15:17.193742Z"
    }
   },
   "source": "top_positive = steam_data.nlargest(20, 'positive_ratings')[['name', 'positive_ratings']]",
   "outputs": [],
   "execution_count": 13
  },
  {
   "cell_type": "markdown",
   "id": "ce78c09d",
   "metadata": {
    "papermill": {
     "duration": 0.023519,
     "end_time": "2023-06-14T00:50:18.615505",
     "exception": false,
     "start_time": "2023-06-14T00:50:18.591986",
     "status": "completed"
    },
    "tags": []
   },
   "source": [
    "Then, a query is applied to select only those games whose quantity of positive ratings is above the last number retrieved in the filter. In this case, that would be 144595."
   ]
  },
  {
   "cell_type": "code",
   "id": "642647ac",
   "metadata": {
    "execution": {
     "iopub.execute_input": "2023-06-14T00:50:18.656669Z",
     "iopub.status.busy": "2023-06-14T00:50:18.655455Z",
     "iopub.status.idle": "2023-06-14T00:50:18.676792Z",
     "shell.execute_reply": "2023-06-14T00:50:18.675570Z"
    },
    "papermill": {
     "duration": 0.044187,
     "end_time": "2023-06-14T00:50:18.679381",
     "exception": false,
     "start_time": "2023-06-14T00:50:18.635194",
     "status": "completed"
    },
    "tags": [],
    "ExecuteTime": {
     "end_time": "2024-07-04T20:15:19.982164Z",
     "start_time": "2024-07-04T20:15:19.976721Z"
    }
   },
   "source": [
    "threshold = 144595\n",
    "top_positive_games_above_threshold = steam_data[steam_data['positive_ratings'] > threshold]"
   ],
   "outputs": [],
   "execution_count": 14
  },
  {
   "cell_type": "markdown",
   "id": "60393c9c",
   "metadata": {
    "papermill": {
     "duration": 0.019105,
     "end_time": "2023-06-14T00:50:18.719400",
     "exception": false,
     "start_time": "2023-06-14T00:50:18.700295",
     "status": "completed"
    },
    "tags": []
   },
   "source": [
    "Unsurprisingly, the podium is occupied by the wildly popular PC games Counter-Strike: Global Offensive, Dota 2 and Team Fortress 2, all three developed by Steam's own parent company, Valve Software."
   ]
  },
  {
   "cell_type": "markdown",
   "id": "e4dc0f63",
   "metadata": {
    "papermill": {
     "duration": 0.022179,
     "end_time": "2023-06-14T00:50:18.764163",
     "exception": false,
     "start_time": "2023-06-14T00:50:18.741984",
     "status": "completed"
    },
    "tags": []
   },
   "source": [
    "## **Top 20 Games with the Most Negative Ratings**\n",
    "\n",
    "Now, going to the opposite end, discovering the top 20 games with the most negative reviews on Steam. Filtering for the the 20 largest values in the negative_ratings column."
   ]
  },
  {
   "cell_type": "code",
   "id": "c35e913a",
   "metadata": {
    "execution": {
     "iopub.execute_input": "2023-06-14T00:50:18.814985Z",
     "iopub.status.busy": "2023-06-14T00:50:18.814176Z",
     "iopub.status.idle": "2023-06-14T00:50:18.825109Z",
     "shell.execute_reply": "2023-06-14T00:50:18.823410Z"
    },
    "papermill": {
     "duration": 0.03793,
     "end_time": "2023-06-14T00:50:18.828611",
     "exception": false,
     "start_time": "2023-06-14T00:50:18.790681",
     "status": "completed"
    },
    "tags": [],
    "ExecuteTime": {
     "end_time": "2024-07-04T20:15:24.032288Z",
     "start_time": "2024-07-04T20:15:24.014318Z"
    }
   },
   "source": "top_negative = steam_data.nlargest(20, 'negative_ratings')[['name', 'negative_ratings']]",
   "outputs": [],
   "execution_count": 15
  },
  {
   "cell_type": "markdown",
   "id": "c1d3ab97",
   "metadata": {
    "papermill": {
     "duration": 0.019423,
     "end_time": "2023-06-14T00:50:18.869007",
     "exception": false,
     "start_time": "2023-06-14T00:50:18.849584",
     "status": "completed"
    },
    "tags": []
   },
   "source": [
    "Applying a query to select only those games whose quantity of negative ratings is above the last number retrieved in the filter, 25920."
   ]
  },
  {
   "cell_type": "code",
   "id": "e20339e9",
   "metadata": {
    "execution": {
     "iopub.execute_input": "2023-06-14T00:50:18.916649Z",
     "iopub.status.busy": "2023-06-14T00:50:18.915555Z",
     "iopub.status.idle": "2023-06-14T00:50:18.936935Z",
     "shell.execute_reply": "2023-06-14T00:50:18.935645Z"
    },
    "papermill": {
     "duration": 0.046012,
     "end_time": "2023-06-14T00:50:18.939484",
     "exception": false,
     "start_time": "2023-06-14T00:50:18.893472",
     "status": "completed"
    },
    "tags": [],
    "ExecuteTime": {
     "end_time": "2024-07-04T20:15:26.859075Z",
     "start_time": "2024-07-04T20:15:26.851913Z"
    }
   },
   "source": [
    "threshold = 25920\n",
    "top_negative_games_above_threshold = steam_data[steam_data['negative_ratings'] > threshold][['name', 'negative_ratings']]"
   ],
   "outputs": [],
   "execution_count": 16
  },
  {
   "cell_type": "markdown",
   "id": "d61acffe",
   "metadata": {
    "papermill": {
     "duration": 0.019869,
     "end_time": "2023-06-14T00:50:18.979988",
     "exception": false,
     "start_time": "2023-06-14T00:50:18.960119",
     "status": "completed"
    },
    "tags": []
   },
   "source": [
    "Popular video games, especially those with live-service and multiplayer components, can often be very divisive or controversial due to the fickle nature of the player bases and the state of their satisfaction or dissatisfaction with the games as they get updated and changed. Thus Counter-Strike: Global Offensive and Dota 2 occupy 2 of the 3 spots of games with the most negative reviews."
   ]
  },
  {
   "cell_type": "markdown",
   "id": "77c7f3ed",
   "metadata": {
    "papermill": {
     "duration": 0.021037,
     "end_time": "2023-06-14T00:50:19.021213",
     "exception": false,
     "start_time": "2023-06-14T00:50:19.000176",
     "status": "completed"
    },
    "tags": []
   },
   "source": [
    "## **Top 20 Games with the Highest Average Playtime**\n",
    "\n",
    "Taking a look at how much time people spend on Steam's most popular games, on average."
   ]
  },
  {
   "cell_type": "markdown",
   "id": "66a255d6",
   "metadata": {
    "papermill": {
     "duration": 0.019691,
     "end_time": "2023-06-14T00:50:19.061112",
     "exception": false,
     "start_time": "2023-06-14T00:50:19.041421",
     "status": "completed"
    },
    "tags": []
   },
   "source": [
    "First, the average_playtime column will be converted from minutes to hours for better visualization"
   ]
  },
  {
   "cell_type": "code",
   "id": "ec7cfccd",
   "metadata": {
    "execution": {
     "iopub.execute_input": "2023-06-14T00:50:19.103186Z",
     "iopub.status.busy": "2023-06-14T00:50:19.102747Z",
     "iopub.status.idle": "2023-06-14T00:50:19.109085Z",
     "shell.execute_reply": "2023-06-14T00:50:19.108135Z"
    },
    "papermill": {
     "duration": 0.03033,
     "end_time": "2023-06-14T00:50:19.111448",
     "exception": false,
     "start_time": "2023-06-14T00:50:19.081118",
     "status": "completed"
    },
    "tags": [],
    "ExecuteTime": {
     "end_time": "2024-07-04T20:15:31.155176Z",
     "start_time": "2024-07-04T20:15:31.132210Z"
    }
   },
   "source": [
    "steam_data['average_playtime_hours'] = steam_data['average_playtime'] / 60\n",
    "top_avg_playtime = steam_data.nlargest(20, 'average_playtime_hours')[['name', 'average_playtime_hours']]\n",
    "print(\"\\nTop 20 Games with the Highest Average Playtime:\")\n",
    "print(top_avg_playtime)"
   ],
   "outputs": [
    {
     "name": "stdout",
     "output_type": "stream",
     "text": [
      "\n",
      "Top 20 Games with the Highest Average Playtime:\n",
      "                                          name  average_playtime_hours\n",
      "9201               The Abbey of Crime Extensum             3177.083333\n",
      "1478                 The Banner Saga: Factions             1587.416667\n",
      "6014      The Secret of Tremendous Corporation             1587.366667\n",
      "8969                                     PRICE             1058.016667\n",
      "3930                                 Boundless              920.066667\n",
      "3969    Shroud of the Avatar: Forsaken Virtues              910.300000\n",
      "2435                                X-Plane 11              736.150000\n",
      "23409                                    懒人修仙传              727.200000\n",
      "2023                           Fantasy Grounds              717.900000\n",
      "8919                                   Screeps              646.750000\n",
      "12195                     The Price of Freedom              600.483333\n",
      "744                   FINAL FANTASY XIV Online              481.616667\n",
      "3803                                 Darkstone              456.250000\n",
      "15212                               Warp Rider              422.066667\n",
      "16413   Trivia Vault: Science & History Trivia              422.033333\n",
      "16143                           The Moon Night              421.950000\n",
      "22                                      Dota 2              399.066667\n",
      "12836            PLAYERUNKNOWN'S BATTLEGROUNDS              382.300000\n",
      "25            Counter-Strike: Global Offensive              374.900000\n",
      "2737   Heroine's Quest: The Herald of Ragnarok              354.116667\n"
     ]
    }
   ],
   "execution_count": 17
  },
  {
   "cell_type": "code",
   "execution_count": null,
   "id": "f738a7b4",
   "metadata": {
    "execution": {
     "iopub.execute_input": "2023-06-14T00:50:19.154390Z",
     "iopub.status.busy": "2023-06-14T00:50:19.153043Z",
     "iopub.status.idle": "2023-06-14T00:50:19.165650Z",
     "shell.execute_reply": "2023-06-14T00:50:19.164543Z"
    },
    "papermill": {
     "duration": 0.036369,
     "end_time": "2023-06-14T00:50:19.167993",
     "exception": false,
     "start_time": "2023-06-14T00:50:19.131624",
     "status": "completed"
    },
    "tags": []
   },
   "outputs": [],
   "source": []
  },
  {
   "cell_type": "code",
   "execution_count": null,
   "id": "27686d7b",
   "metadata": {
    "execution": {
     "iopub.execute_input": "2023-06-14T00:50:19.211375Z",
     "iopub.status.busy": "2023-06-14T00:50:19.210713Z",
     "iopub.status.idle": "2023-06-14T00:50:19.233050Z",
     "shell.execute_reply": "2023-06-14T00:50:19.231906Z"
    },
    "papermill": {
     "duration": 0.046631,
     "end_time": "2023-06-14T00:50:19.235427",
     "exception": false,
     "start_time": "2023-06-14T00:50:19.188796",
     "status": "completed"
    },
    "tags": []
   },
   "outputs": [],
   "source": []
  },
  {
   "cell_type": "markdown",
   "id": "9b464a97",
   "metadata": {
    "papermill": {
     "duration": 0.020532,
     "end_time": "2023-06-14T00:50:19.276711",
     "exception": false,
     "start_time": "2023-06-14T00:50:19.256179",
     "status": "completed"
    },
    "tags": []
   },
   "source": [
    "## **Price Analysis**\n",
    "\n",
    "A simple price analysis will be shown below, focusing on the split of free vs. paid games, average price by year and general price distribution. \n",
    "\n",
    "release_year and release_month columns will be created from the release_date one, as it will be used for this price analysis and a few other metrics down the line"
   ]
  },
  {
   "cell_type": "code",
   "id": "a82daa9b",
   "metadata": {
    "execution": {
     "iopub.execute_input": "2023-06-14T00:50:19.320821Z",
     "iopub.status.busy": "2023-06-14T00:50:19.320137Z",
     "iopub.status.idle": "2023-06-14T00:50:19.594081Z",
     "shell.execute_reply": "2023-06-14T00:50:19.593315Z"
    },
    "papermill": {
     "duration": 0.298863,
     "end_time": "2023-06-14T00:50:19.596862",
     "exception": false,
     "start_time": "2023-06-14T00:50:19.297999",
     "status": "completed"
    },
    "tags": [],
    "ExecuteTime": {
     "end_time": "2024-07-04T20:15:35.082187Z",
     "start_time": "2024-07-04T20:15:35.064395Z"
    }
   },
   "source": [
    "steam_data['release_date'] = pd.to_datetime(steam_data['release_date'], errors='coerce')\n",
    "steam_data['release_year'] = steam_data['release_date'].dt.year\n",
    "steam_data['release_month'] = steam_data['release_date'].dt.month"
   ],
   "outputs": [],
   "execution_count": 18
  },
  {
   "cell_type": "markdown",
   "id": "06756909",
   "metadata": {
    "papermill": {
     "duration": 0.020787,
     "end_time": "2023-06-14T00:50:19.641015",
     "exception": false,
     "start_time": "2023-06-14T00:50:19.620228",
     "status": "completed"
    },
    "tags": []
   },
   "source": [
    "A new boolean column will be added called free, this column displays whether a game is free or paid"
   ]
  },
  {
   "cell_type": "code",
   "id": "57ce2c6b",
   "metadata": {
    "execution": {
     "iopub.execute_input": "2023-06-14T00:50:19.686113Z",
     "iopub.status.busy": "2023-06-14T00:50:19.685316Z",
     "iopub.status.idle": "2023-06-14T00:50:19.727406Z",
     "shell.execute_reply": "2023-06-14T00:50:19.726313Z"
    },
    "papermill": {
     "duration": 0.067195,
     "end_time": "2023-06-14T00:50:19.729854",
     "exception": false,
     "start_time": "2023-06-14T00:50:19.662659",
     "status": "completed"
    },
    "tags": [],
    "ExecuteTime": {
     "end_time": "2024-07-04T20:15:38.596435Z",
     "start_time": "2024-07-04T20:15:38.577159Z"
    }
   },
   "source": [
    "steam_data['free'] = steam_data['price'].apply(lambda x: True if x == 0 else False)\n",
    "print(\"\\nFirst few rows with 'free' column:\")\n",
    "print(steam_data[['name', 'price', 'free']].head())"
   ],
   "outputs": [
    {
     "name": "stdout",
     "output_type": "stream",
     "text": [
      "\n",
      "First few rows with 'free' column:\n",
      "                        name  price   free\n",
      "0             Counter-Strike   7.19  False\n",
      "1      Team Fortress Classic   3.99  False\n",
      "2              Day of Defeat   3.99  False\n",
      "3         Deathmatch Classic   3.99  False\n",
      "4  Half-Life: Opposing Force   3.99  False\n"
     ]
    }
   ],
   "execution_count": 19
  },
  {
   "cell_type": "markdown",
   "id": "43524279",
   "metadata": {
    "papermill": {
     "duration": 0.024223,
     "end_time": "2023-06-14T00:50:22.259441",
     "exception": false,
     "start_time": "2023-06-14T00:50:22.235218",
     "status": "completed"
    },
    "tags": []
   },
   "source": [
    "## **Publishers and Developers with the Highest Number of Games**"
   ]
  },
  {
   "cell_type": "code",
   "id": "02dcfdcc",
   "metadata": {
    "execution": {
     "iopub.execute_input": "2023-06-14T00:50:22.312452Z",
     "iopub.status.busy": "2023-06-14T00:50:22.311996Z",
     "iopub.status.idle": "2023-06-14T00:50:22.330754Z",
     "shell.execute_reply": "2023-06-14T00:50:22.329298Z"
    },
    "papermill": {
     "duration": 0.048036,
     "end_time": "2023-06-14T00:50:22.333191",
     "exception": false,
     "start_time": "2023-06-14T00:50:22.285155",
     "status": "completed"
    },
    "tags": [],
    "ExecuteTime": {
     "end_time": "2024-07-04T20:15:43.665441Z",
     "start_time": "2024-07-04T20:15:43.654445Z"
    }
   },
   "source": "top_publishers = steam_data['publisher'].value_counts().head(10)",
   "outputs": [],
   "execution_count": 20
  },
  {
   "cell_type": "code",
   "id": "872c21b2",
   "metadata": {
    "execution": {
     "iopub.execute_input": "2023-06-14T00:50:22.953595Z",
     "iopub.status.busy": "2023-06-14T00:50:22.953179Z",
     "iopub.status.idle": "2023-06-14T00:50:22.972168Z",
     "shell.execute_reply": "2023-06-14T00:50:22.971020Z"
    },
    "papermill": {
     "duration": 0.048026,
     "end_time": "2023-06-14T00:50:22.974521",
     "exception": false,
     "start_time": "2023-06-14T00:50:22.926495",
     "status": "completed"
    },
    "tags": [],
    "ExecuteTime": {
     "end_time": "2024-07-04T20:15:47.210976Z",
     "start_time": "2024-07-04T20:15:47.199671Z"
    }
   },
   "source": "top_developers = steam_data['developer'].value_counts().head(10)",
   "outputs": [],
   "execution_count": 21
  },
  {
   "cell_type": "markdown",
   "id": "8fc35f26",
   "metadata": {
    "papermill": {
     "duration": 0.028872,
     "end_time": "2023-06-14T00:50:24.857395",
     "exception": false,
     "start_time": "2023-06-14T00:50:24.828523",
     "status": "completed"
    },
    "tags": []
   },
   "source": [
    "Top 10 games by ownership"
   ]
  },
  {
   "cell_type": "code",
   "id": "5a7e2270",
   "metadata": {
    "execution": {
     "iopub.execute_input": "2023-06-14T00:50:24.918525Z",
     "iopub.status.busy": "2023-06-14T00:50:24.917088Z",
     "iopub.status.idle": "2023-06-14T00:50:24.945966Z",
     "shell.execute_reply": "2023-06-14T00:50:24.944816Z"
    },
    "papermill": {
     "duration": 0.062092,
     "end_time": "2023-06-14T00:50:24.948597",
     "exception": false,
     "start_time": "2023-06-14T00:50:24.886505",
     "status": "completed"
    },
    "tags": [],
    "ExecuteTime": {
     "end_time": "2024-07-04T20:15:50.837664Z",
     "start_time": "2024-07-04T20:15:50.796870Z"
    }
   },
   "source": [
    "def clean_owners(owners_str):\n",
    "    return int(owners_str.replace(',', '').split('-')[0])\n",
    "\n",
    "steam_data['owners'] = steam_data['owners'].apply(clean_owners)\n",
    "top_ownership_games = steam_data.nlargest(10, 'owners')[['name', 'owners']]\n",
    "\n",
    "print(\"\\nTop 10 Games by Ownership:\")\n",
    "print(top_ownership_games)"
   ],
   "outputs": [
    {
     "name": "stdout",
     "output_type": "stream",
     "text": [
      "\n",
      "Top 10 Games by Ownership:\n",
      "                                   name     owners\n",
      "22                               Dota 2  100000000\n",
      "25     Counter-Strike: Global Offensive   50000000\n",
      "12836     PLAYERUNKNOWN'S BATTLEGROUNDS   50000000\n",
      "19                      Team Fortress 2   20000000\n",
      "1634                           Warframe   20000000\n",
      "3362                           Unturned   20000000\n",
      "0                        Counter-Strike   10000000\n",
      "7        Counter-Strike: Condition Zero   10000000\n",
      "9                           Half-Life 2   10000000\n",
      "10               Counter-Strike: Source   10000000\n"
     ]
    }
   ],
   "execution_count": 22
  },
  {
   "metadata": {},
   "cell_type": "code",
   "outputs": [],
   "execution_count": null,
   "source": "",
   "id": "d590e5481bc63373"
  }
 ],
 "metadata": {
  "kernelspec": {
   "display_name": "Python 3 (ipykernel)",
   "language": "python",
   "name": "python3"
  },
  "language_info": {
   "codemirror_mode": {
    "name": "ipython",
    "version": 3
   },
   "file_extension": ".py",
   "mimetype": "text/x-python",
   "name": "python",
   "nbconvert_exporter": "python",
   "pygments_lexer": "ipython3",
   "version": "3.9.13"
  },
  "papermill": {
   "default_parameters": {},
   "duration": 24.358055,
   "end_time": "2023-06-14T00:50:26.001812",
   "environment_variables": {},
   "exception": null,
   "input_path": "__notebook__.ipynb",
   "output_path": "__notebook__.ipynb",
   "parameters": {},
   "start_time": "2023-06-14T00:50:01.643757",
   "version": "2.4.0"
  }
 },
 "nbformat": 4,
 "nbformat_minor": 5
}
