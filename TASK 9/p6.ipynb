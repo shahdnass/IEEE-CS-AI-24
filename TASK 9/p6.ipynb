{
 "cells": [
  {
   "cell_type": "code",
   "execution_count": 21,
   "id": "a402f62b-f4d5-4143-a7f4-63a98e4945fa",
   "metadata": {},
   "outputs": [
    {
     "name": "stdin",
     "output_type": "stream",
     "text": [
      " 3 3\n",
      " W W W\n",
      " B C Y\n"
     ]
    },
    {
     "name": "stdout",
     "output_type": "stream",
     "text": [
      "#Color\n"
     ]
    }
   ],
   "source": [
    "\"\"\" ده كود هنا كان بيطلعلي RUNTIME ERROR علي كود فورس بس النواتج علي JUPYTER صح\n",
    "import numpy as np\n",
    "rows = int(input(\"Enter dimensions (rows ): \"))\n",
    "cols = int(input(\"Enter dimensions (cols): \"))\n",
    "is_colored= False\n",
    "np1 = np.empty((rows, cols), dtype=object)\n",
    "for i in range(rows):\n",
    "    for j in range(cols):\n",
    "         while True:\n",
    "            color = input(f\"Enter color for element \")\n",
    "            if color in {'C', 'M', 'Y', 'W', 'G', 'B'}:\n",
    "                np1[i, j] = color\n",
    "                break\n",
    "            else:\n",
    "                print(\"Invalid color. Please enter one of 'C', 'M', 'Y', 'W', 'G', 'B'.\")\n",
    "         \n",
    " \n",
    " \n",
    "for x in range(rows):\n",
    "    for p in range(cols):\n",
    "        if np1[x,p] in {'C', 'M', 'Y'}:\n",
    "            is_colored = True\n",
    "            break\n",
    "    if is_colored:\n",
    "        break\n",
    " \n",
    "if is_colored:\n",
    "    print(\"#Color\")\n",
    "else:\n",
    "    print(\"#Black&White\")\n",
    "\n",
    "\"\"\"\n",
    "\n",
    "###########################################\n",
    "\n",
    "n, m = map(int, input().split())\n",
    " \n",
    "is_colored = False\n",
    " \n",
    "for _ in range(n):\n",
    "    row = input().split()\n",
    "    for pixel in row:\n",
    "        if pixel in {'C', 'M', 'Y'}:\n",
    "            is_colored = True\n",
    "            break\n",
    "    if is_colored:\n",
    "        break\n",
    " \n",
    "if is_colored:\n",
    "    print(\"#Color\")\n",
    "else:\n",
    "    print(\"#Black&White\")\n",
    "     "
   ]
  },
  {
   "cell_type": "markdown",
   "id": "0da298b7-a6a8-4598-8494-22a82d5ea0f6",
   "metadata": {},
   "source": [
    " "
   ]
  },
  {
   "cell_type": "code",
   "execution_count": null,
   "id": "edd8f310-8fd9-4f9e-abbe-de651d11fbd4",
   "metadata": {},
   "outputs": [],
   "source": []
  }
 ],
 "metadata": {
  "kernelspec": {
   "display_name": "Python 3 (ipykernel)",
   "language": "python",
   "name": "python3"
  },
  "language_info": {
   "codemirror_mode": {
    "name": "ipython",
    "version": 3
   },
   "file_extension": ".py",
   "mimetype": "text/x-python",
   "name": "python",
   "nbconvert_exporter": "python",
   "pygments_lexer": "ipython3",
   "version": "3.11.7"
  }
 },
 "nbformat": 4,
 "nbformat_minor": 5
}
