{
 "cells": [
  {
   "cell_type": "code",
   "execution_count": 7,
   "id": "b968ed7a-2e8a-48bd-961f-4499b4f46e6d",
   "metadata": {},
   "outputs": [],
   "source": [
    "import numpy as np\n",
    "\n",
    "#np1=np.zeros((3,3))\n",
    "np1= np.random.random((3,3))"
   ]
  },
  {
   "cell_type": "code",
   "execution_count": 10,
   "id": "019db3ac-0748-4c9c-9d2a-f82dff7c13be",
   "metadata": {},
   "outputs": [],
   "source": [
    "np.fill_diagonal(np1,9)"
   ]
  },
  {
   "cell_type": "code",
   "execution_count": 11,
   "id": "65416a98-d260-46b8-9897-b6c4d88d6e63",
   "metadata": {},
   "outputs": [
    {
     "data": {
      "text/plain": [
       "array([[9.        , 0.94731797, 0.13174944],\n",
       "       [0.30988595, 9.        , 0.92757147],\n",
       "       [0.20139028, 0.06666825, 9.        ]])"
      ]
     },
     "execution_count": 11,
     "metadata": {},
     "output_type": "execute_result"
    }
   ],
   "source": [
    "np1\n"
   ]
  },
  {
   "cell_type": "code",
   "execution_count": null,
   "id": "4a402e8b-fadd-403f-ade8-5b5b805fefdd",
   "metadata": {},
   "outputs": [],
   "source": []
  }
 ],
 "metadata": {
  "kernelspec": {
   "display_name": "Python 3 (ipykernel)",
   "language": "python",
   "name": "python3"
  },
  "language_info": {
   "codemirror_mode": {
    "name": "ipython",
    "version": 3
   },
   "file_extension": ".py",
   "mimetype": "text/x-python",
   "name": "python",
   "nbconvert_exporter": "python",
   "pygments_lexer": "ipython3",
   "version": "3.11.7"
  }
 },
 "nbformat": 4,
 "nbformat_minor": 5
}
