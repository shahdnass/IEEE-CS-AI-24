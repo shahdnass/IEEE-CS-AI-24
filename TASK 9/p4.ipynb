{
 "cells": [
  {
   "cell_type": "code",
   "execution_count": 7,
   "id": "b40cb451-4d24-4b75-a2a9-006fbb70a731",
   "metadata": {},
   "outputs": [
    {
     "name": "stdin",
     "output_type": "stream",
     "text": [
      "Enter the value of n:  6\n"
     ]
    }
   ],
   "source": [
    "import numpy as np\n",
    "\n",
    "\n",
    "n = int(input(\"Enter the value of n: \"))\n",
    "np1 = np.zeros((n, n))\n",
    "for x in range(n):\n",
    "      np1[:,x]=x+1"
   ]
  },
  {
   "cell_type": "code",
   "execution_count": 8,
   "id": "6dac5893-fac1-48d9-b5ef-5c0b7d4fff0b",
   "metadata": {},
   "outputs": [
    {
     "data": {
      "text/plain": [
       "array([[1., 2., 3., 4., 5., 6.],\n",
       "       [1., 2., 3., 4., 5., 6.],\n",
       "       [1., 2., 3., 4., 5., 6.],\n",
       "       [1., 2., 3., 4., 5., 6.],\n",
       "       [1., 2., 3., 4., 5., 6.],\n",
       "       [1., 2., 3., 4., 5., 6.]])"
      ]
     },
     "execution_count": 8,
     "metadata": {},
     "output_type": "execute_result"
    }
   ],
   "source": [
    "np1\n"
   ]
  },
  {
   "cell_type": "code",
   "execution_count": null,
   "id": "7250826e-b378-4421-ae09-02c9d2e1b983",
   "metadata": {},
   "outputs": [],
   "source": []
  }
 ],
 "metadata": {
  "kernelspec": {
   "display_name": "Python 3 (ipykernel)",
   "language": "python",
   "name": "python3"
  },
  "language_info": {
   "codemirror_mode": {
    "name": "ipython",
    "version": 3
   },
   "file_extension": ".py",
   "mimetype": "text/x-python",
   "name": "python",
   "nbconvert_exporter": "python",
   "pygments_lexer": "ipython3",
   "version": "3.11.7"
  }
 },
 "nbformat": 4,
 "nbformat_minor": 5
}
