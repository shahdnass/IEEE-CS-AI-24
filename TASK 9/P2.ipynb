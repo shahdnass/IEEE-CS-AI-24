{
 "cells": [
  {
   "cell_type": "code",
   "execution_count": 1,
   "id": "af814743-befc-44b8-bc25-b0aa2a70f90d",
   "metadata": {},
   "outputs": [
    {
     "name": "stdout",
     "output_type": "stream",
     "text": [
      "[14 16 18 20]\n"
     ]
    }
   ],
   "source": [
    " import numpy as np\n",
    "array = np.arange(2, 33, 2).reshape((4, 4))\n",
    "\n",
    "mean = np.mean(array)\n",
    "std = np.std(array)\n",
    "\n",
    "lower_bound = mean - 0.5 * std\n",
    "upper_bound = mean + 0.5 * std\n",
    "\n",
    "result = array[(array >= lower_bound) & (array <= upper_bound)]\n",
    "\n",
    "print(result)\n"
   ]
  },
  {
   "cell_type": "code",
   "execution_count": null,
   "id": "c64d0dfa-4f3d-4794-a0cf-4cf8f3766122",
   "metadata": {},
   "outputs": [],
   "source": []
  }
 ],
 "metadata": {
  "kernelspec": {
   "display_name": "Python 3 (ipykernel)",
   "language": "python",
   "name": "python3"
  },
  "language_info": {
   "codemirror_mode": {
    "name": "ipython",
    "version": 3
   },
   "file_extension": ".py",
   "mimetype": "text/x-python",
   "name": "python",
   "nbconvert_exporter": "python",
   "pygments_lexer": "ipython3",
   "version": "3.11.7"
  }
 },
 "nbformat": 4,
 "nbformat_minor": 5
}
