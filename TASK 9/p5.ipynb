{
 "cells": [
  {
   "cell_type": "code",
   "execution_count": 43,
   "id": "cacec430-5521-4c58-95ed-91d24a600557",
   "metadata": {},
   "outputs": [
    {
     "name": "stdin",
     "output_type": "stream",
     "text": [
      "Enter the value of n:  4\n"
     ]
    },
    {
     "name": "stdout",
     "output_type": "stream",
     "text": [
      "seraj: 1206.1121246647183\n",
      "dima: 978.0175289549982\n"
     ]
    }
   ],
   "source": [
    "# import numpy as np\n",
    "\n",
    "#n = int(input(\"Enter the value of n: \"))\n",
    "#np1 = np.random.random(size=n) * 999 + 1\n",
    "#seraj = 0\n",
    "#dima = 0\n",
    "\n",
    "#while np1.size > 0:\n",
    " #   max_value1 = max(np1[0], np1[-1])\n",
    "  #  seraj += max_value1\n",
    "   # index1 = np.where(np1 == max_value1)[0][0]\n",
    "    #np1 = np.delete(np1, index1)\n",
    "    #max_value2 = max(np1[0], np1[-1])\n",
    "    #dima += max_value2\n",
    "    #index2 = np.where(np1 == max_value2)[0][0]\n",
    "    #np1 = np.delete(np1, index2)\n",
    "\n",
    "#print(\"seraj:\", seraj)\n",
    "#print(\"dima:\", dima)\n",
    " "
   ]
  },
  {
   "cell_type": "code",
   "execution_count": 47,
   "id": "428a93c7-f97c-461d-8249-924b3141c2d8",
   "metadata": {},
   "outputs": [
    {
     "name": "stdin",
     "output_type": "stream",
     "text": [
      "Enter the value of n:  4\n"
     ]
    },
    {
     "name": "stdout",
     "output_type": "stream",
     "text": [
      "1545.0664411759346 879.8522902488437\n"
     ]
    }
   ],
   "source": [
    "import numpy as np\n",
    "\n",
    "n = int(input(\"Enter the value of n: \"))\n",
    "np1 = np.random.random(size=n) * 999 + 1\n",
    "\n",
    "sereja_points = 0\n",
    "dima_points = 0\n",
    "\n",
    "left = 0\n",
    "right = n - 1\n",
    "\n",
    "sereja_turn = True\n",
    "while left <= right:\n",
    "        if np1[left] > np1[right]:\n",
    "            if sereja_turn:\n",
    "                sereja_points += np1[left]\n",
    "            else:\n",
    "                dima_points += np1[left]\n",
    "            left += 1\n",
    "        else:\n",
    "            if sereja_turn:\n",
    "                sereja_points += np1[right]\n",
    "            else:\n",
    "                dima_points += np1[right]\n",
    "            right -= 1\n",
    "        \n",
    "        sereja_turn = not sereja_turn\n",
    "\n",
    " \n",
    "\n",
    "\n",
    " \n",
    " \n",
    "\n",
    " \n",
    "\n",
    "# Print the result\n",
    "print(sereja_points, dima_points)\n"
   ]
  },
  {
   "cell_type": "code",
   "execution_count": null,
   "id": "19694d13-e89f-4295-b2be-85777ee35ca8",
   "metadata": {},
   "outputs": [],
   "source": []
  }
 ],
 "metadata": {
  "kernelspec": {
   "display_name": "Python 3 (ipykernel)",
   "language": "python",
   "name": "python3"
  },
  "language_info": {
   "codemirror_mode": {
    "name": "ipython",
    "version": 3
   },
   "file_extension": ".py",
   "mimetype": "text/x-python",
   "name": "python",
   "nbconvert_exporter": "python",
   "pygments_lexer": "ipython3",
   "version": "3.11.7"
  }
 },
 "nbformat": 4,
 "nbformat_minor": 5
}
